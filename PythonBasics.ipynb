{
  "nbformat": 4,
  "nbformat_minor": 0,
  "metadata": {
    "colab": {
      "name": "PythonBasics.ipynb",
      "provenance": [],
      "collapsed_sections": [
        "NCg1NWjGYyun",
        "RouQd7AlY7TF",
        "XT3kax-FZEI_",
        "Kftsd_qNZMNv",
        "4_Hc3OO6ZVxW",
        "-bIsMKcWjenR",
        "jgMi7aqAg0Tj",
        "7l_tGR7Pityz",
        "sEgot5e9rs9E",
        "O-GXdOckxkX6",
        "OEfJP3VhDR1B",
        "1kkTPg4qO-Gt"
      ],
      "toc_visible": true,
      "authorship_tag": "ABX9TyM7KIWfRgCNg7zuMG8JBD/3",
      "include_colab_link": true
    },
    "kernelspec": {
      "name": "python3",
      "display_name": "Python 3"
    }
  },
  "cells": [
    {
      "cell_type": "markdown",
      "metadata": {
        "id": "view-in-github",
        "colab_type": "text"
      },
      "source": [
        "<a href=\"https://colab.research.google.com/github/Asvataman/Neural-Neworks/blob/master/PythonBasics.ipynb\" target=\"_parent\"><img src=\"https://colab.research.google.com/assets/colab-badge.svg\" alt=\"Open In Colab\"/></a>"
      ]
    },
    {
      "cell_type": "markdown",
      "metadata": {
        "id": "NCg1NWjGYyun"
      },
      "source": [
        "# Strings"
      ]
    },
    {
      "cell_type": "code",
      "metadata": {
        "id": "7HsdNb8r3eRd"
      },
      "source": [
        "name = 'iPhone 5s'"
      ],
      "execution_count": null,
      "outputs": []
    },
    {
      "cell_type": "code",
      "metadata": {
        "id": "tk3-NdQc3tSi",
        "colab": {
          "base_uri": "https://localhost:8080/",
          "height": 34
        },
        "outputId": "2028037f-31c4-4f2e-a99c-551135dd3c86"
      },
      "source": [
        "type(name)"
      ],
      "execution_count": null,
      "outputs": [
        {
          "output_type": "execute_result",
          "data": {
            "text/plain": [
              "str"
            ]
          },
          "metadata": {
            "tags": []
          },
          "execution_count": 2
        }
      ]
    },
    {
      "cell_type": "code",
      "metadata": {
        "id": "H3IYUK5x3ye3",
        "colab": {
          "base_uri": "https://localhost:8080/",
          "height": 53
        },
        "outputId": "ce1c643a-b5d9-413c-cc9d-2b0e5562b26f"
      },
      "source": [
        "print(name)\n",
        "name"
      ],
      "execution_count": null,
      "outputs": [
        {
          "output_type": "stream",
          "text": [
            "iPhone 5s\n"
          ],
          "name": "stdout"
        },
        {
          "output_type": "execute_result",
          "data": {
            "application/vnd.google.colaboratory.intrinsic+json": {
              "type": "string"
            },
            "text/plain": [
              "'iPhone 5s'"
            ]
          },
          "metadata": {
            "tags": []
          },
          "execution_count": 3
        }
      ]
    },
    {
      "cell_type": "markdown",
      "metadata": {
        "id": "RouQd7AlY7TF"
      },
      "source": [
        "# Float and int"
      ]
    },
    {
      "cell_type": "code",
      "metadata": {
        "id": "MPSYMobC36M6",
        "colab": {
          "base_uri": "https://localhost:8080/",
          "height": 34
        },
        "outputId": "8e8f73cf-35bf-4c15-d50a-3d937176aeb8"
      },
      "source": [
        "screen_size = 4.3\n",
        "type(screen_size)"
      ],
      "execution_count": null,
      "outputs": [
        {
          "output_type": "execute_result",
          "data": {
            "text/plain": [
              "float"
            ]
          },
          "metadata": {
            "tags": []
          },
          "execution_count": 4
        }
      ]
    },
    {
      "cell_type": "code",
      "metadata": {
        "id": "pltASEzI4DKf",
        "colab": {
          "base_uri": "https://localhost:8080/",
          "height": 34
        },
        "outputId": "75ada563-5f37-4772-c86c-791e69cc20ed"
      },
      "source": [
        "num_of_speakers = 1\n",
        "type(num_of_speakers)"
      ],
      "execution_count": null,
      "outputs": [
        {
          "output_type": "execute_result",
          "data": {
            "text/plain": [
              "int"
            ]
          },
          "metadata": {
            "tags": []
          },
          "execution_count": 5
        }
      ]
    },
    {
      "cell_type": "code",
      "metadata": {
        "id": "0mxVl63b4RUD",
        "colab": {
          "base_uri": "https://localhost:8080/",
          "height": 34
        },
        "outputId": "78c1929d-cf3c-4162-bf18-50f0c96dd96e"
      },
      "source": [
        "print('I hate ' + name +' because it is costly')"
      ],
      "execution_count": null,
      "outputs": [
        {
          "output_type": "stream",
          "text": [
            "I hate iPhone 5s because it is costly\n"
          ],
          "name": "stdout"
        }
      ]
    },
    {
      "cell_type": "code",
      "metadata": {
        "id": "7q0MszBN64Jn",
        "colab": {
          "base_uri": "https://localhost:8080/",
          "height": 34
        },
        "outputId": "b1361e19-64f6-4892-a3af-6abe86aaed0a"
      },
      "source": [
        "a = 3\n",
        "b = 2\n",
        "print(a+b,a-b,a*b,a/b,a**b)     # a // b does integer division"
      ],
      "execution_count": null,
      "outputs": [
        {
          "output_type": "stream",
          "text": [
            "5 1 6 1.5 9\n"
          ],
          "name": "stdout"
        }
      ]
    },
    {
      "cell_type": "markdown",
      "metadata": {
        "id": "XT3kax-FZEI_"
      },
      "source": [
        "# Boolean "
      ]
    },
    {
      "cell_type": "code",
      "metadata": {
        "id": "5TmBpKB07JUG",
        "colab": {
          "base_uri": "https://localhost:8080/",
          "height": 34
        },
        "outputId": "9724ce41-641e-4ef9-9986-5d2d1e5ce830"
      },
      "source": [
        "is_Android = False\n",
        "type(is_Android)"
      ],
      "execution_count": null,
      "outputs": [
        {
          "output_type": "execute_result",
          "data": {
            "text/plain": [
              "bool"
            ]
          },
          "metadata": {
            "tags": []
          },
          "execution_count": 8
        }
      ]
    },
    {
      "cell_type": "code",
      "metadata": {
        "id": "iJbIxhe57lZY",
        "colab": {
          "base_uri": "https://localhost:8080/",
          "height": 69
        },
        "outputId": "c300cfc6-855d-4393-8c84-89b5459829db"
      },
      "source": [
        "print(is_Android == False)\n",
        "print(is_Android == True)\n",
        "print(is_Android)"
      ],
      "execution_count": null,
      "outputs": [
        {
          "output_type": "stream",
          "text": [
            "True\n",
            "False\n",
            "False\n"
          ],
          "name": "stdout"
        }
      ]
    },
    {
      "cell_type": "markdown",
      "metadata": {
        "id": "Kftsd_qNZMNv"
      },
      "source": [
        "# Conditional and Looping "
      ]
    },
    {
      "cell_type": "code",
      "metadata": {
        "id": "fmzjVVNM7wJi",
        "colab": {
          "base_uri": "https://localhost:8080/",
          "height": 52
        },
        "outputId": "7e9cbef1-0056-4801-e991-8445a9d2d9e1"
      },
      "source": [
        "if is_Android == True:\n",
        "  print(name + ' supports Android')\n",
        "  print('Control is still in if block')\n",
        "else:\n",
        "  print(name + ' does not support Android')\n",
        "  print('Control is Still in else block')  "
      ],
      "execution_count": null,
      "outputs": [
        {
          "output_type": "stream",
          "text": [
            "iPhone 5s does not support Android\n",
            "Control is Still in else block\n"
          ],
          "name": "stdout"
        }
      ]
    },
    {
      "cell_type": "code",
      "metadata": {
        "id": "kKd5A5KU8MJU",
        "colab": {
          "base_uri": "https://localhost:8080/",
          "height": 104
        },
        "outputId": "82786863-04f2-4f7f-f0d1-6a6480b2083a"
      },
      "source": [
        "for i in range(5):      #starts from 0 ends at 4.....for( i = 0; i < 5; i++)\n",
        "  print(i, i**2)"
      ],
      "execution_count": null,
      "outputs": [
        {
          "output_type": "stream",
          "text": [
            "0 0\n",
            "1 1\n",
            "2 4\n",
            "3 9\n",
            "4 16\n"
          ],
          "name": "stdout"
        }
      ]
    },
    {
      "cell_type": "code",
      "metadata": {
        "id": "xRhqIs5z8oCp",
        "colab": {
          "base_uri": "https://localhost:8080/",
          "height": 104
        },
        "outputId": "f8d3ec29-8f80-488a-b89a-3486ebfa8ae4"
      },
      "source": [
        "i =  0\n",
        "while i<5:\n",
        "  print(i, i**2)\n",
        "  i += 1           #i++ or ++i or i-- or --i is not valid in pyhton"
      ],
      "execution_count": null,
      "outputs": [
        {
          "output_type": "stream",
          "text": [
            "0 0\n",
            "1 1\n",
            "2 4\n",
            "3 9\n",
            "4 16\n"
          ],
          "name": "stdout"
        }
      ]
    },
    {
      "cell_type": "markdown",
      "metadata": {
        "id": "4_Hc3OO6ZVxW"
      },
      "source": [
        "# List"
      ]
    },
    {
      "cell_type": "code",
      "metadata": {
        "id": "7_LqlIrTIpBX",
        "colab": {
          "base_uri": "https://localhost:8080/",
          "height": 34
        },
        "outputId": "eeb20e1a-7394-44d9-fb30-38666cfb092d"
      },
      "source": [
        "my_phone = [name, is_Android, screen_size]\n",
        "type(my_phone)"
      ],
      "execution_count": null,
      "outputs": [
        {
          "output_type": "execute_result",
          "data": {
            "text/plain": [
              "list"
            ]
          },
          "metadata": {
            "tags": []
          },
          "execution_count": 13
        }
      ]
    },
    {
      "cell_type": "code",
      "metadata": {
        "id": "3lTxQEZzZxS2",
        "colab": {
          "base_uri": "https://localhost:8080/",
          "height": 34
        },
        "outputId": "e177afae-728b-4e31-b42b-d5b9d6cb5af2"
      },
      "source": [
        "print(my_phone)"
      ],
      "execution_count": null,
      "outputs": [
        {
          "output_type": "stream",
          "text": [
            "['iPhone 5s', False, 4.3]\n"
          ],
          "name": "stdout"
        }
      ]
    },
    {
      "cell_type": "code",
      "metadata": {
        "id": "Q1gqT9-5Z2Vo",
        "colab": {
          "base_uri": "https://localhost:8080/",
          "height": 35
        },
        "outputId": "672b9ba9-f7ec-4815-a49a-45a4ce7a7c25"
      },
      "source": [
        "my_phone[0]"
      ],
      "execution_count": null,
      "outputs": [
        {
          "output_type": "execute_result",
          "data": {
            "application/vnd.google.colaboratory.intrinsic+json": {
              "type": "string"
            },
            "text/plain": [
              "'iPhone 5s'"
            ]
          },
          "metadata": {
            "tags": []
          },
          "execution_count": 15
        }
      ]
    },
    {
      "cell_type": "code",
      "metadata": {
        "id": "84SvRA6LZ-eh",
        "colab": {
          "base_uri": "https://localhost:8080/",
          "height": 34
        },
        "outputId": "6b7e08cf-4956-492b-e81e-7541af61fb9c"
      },
      "source": [
        "my_phone[0:2]"
      ],
      "execution_count": null,
      "outputs": [
        {
          "output_type": "execute_result",
          "data": {
            "text/plain": [
              "['iPhone 5s', False]"
            ]
          },
          "metadata": {
            "tags": []
          },
          "execution_count": 16
        }
      ]
    },
    {
      "cell_type": "code",
      "metadata": {
        "id": "4frwbO9zaak_"
      },
      "source": [
        "my_dads_phone = my_phone "
      ],
      "execution_count": null,
      "outputs": []
    },
    {
      "cell_type": "code",
      "metadata": {
        "id": "N0qsSmmUaFIg"
      },
      "source": [
        "my_phone[2] = 4"
      ],
      "execution_count": null,
      "outputs": []
    },
    {
      "cell_type": "code",
      "metadata": {
        "id": "vsZZ9YOBaURc",
        "colab": {
          "base_uri": "https://localhost:8080/",
          "height": 34
        },
        "outputId": "5aef4740-de07-4cb8-fbe0-b04d7b307e52"
      },
      "source": [
        "print(my_dads_phone, my_phone)"
      ],
      "execution_count": null,
      "outputs": [
        {
          "output_type": "stream",
          "text": [
            "['iPhone 5s', False, 4] ['iPhone 5s', False, 4]\n"
          ],
          "name": "stdout"
        }
      ]
    },
    {
      "cell_type": "code",
      "metadata": {
        "id": "fZ66-oqnancP",
        "colab": {
          "base_uri": "https://localhost:8080/",
          "height": 34
        },
        "outputId": "a2c868c0-ec9a-4ad4-b5c4-43a2e5fbc839"
      },
      "source": [
        "my_dads_phone = list(my_phone)     # my_dads_phone = my_phone[:]\n",
        "my_phone[2] = 4.3\n",
        "print(my_phone, my_dads_phone)"
      ],
      "execution_count": null,
      "outputs": [
        {
          "output_type": "stream",
          "text": [
            "['iPhone 5s', False, 4.3] ['iPhone 5s', False, 4]\n"
          ],
          "name": "stdout"
        }
      ]
    },
    {
      "cell_type": "code",
      "metadata": {
        "id": "dixCOfvfa6U3",
        "colab": {
          "base_uri": "https://localhost:8080/",
          "height": 34
        },
        "outputId": "b3c2f02f-a805-4dac-ffeb-14125d7e89d5"
      },
      "source": [
        "len(my_phone)"
      ],
      "execution_count": null,
      "outputs": [
        {
          "output_type": "execute_result",
          "data": {
            "text/plain": [
              "3"
            ]
          },
          "metadata": {
            "tags": []
          },
          "execution_count": 21
        }
      ]
    },
    {
      "cell_type": "code",
      "metadata": {
        "id": "CHBmfNsygaSP"
      },
      "source": [
        "my_phone.append('3G')"
      ],
      "execution_count": null,
      "outputs": []
    },
    {
      "cell_type": "code",
      "metadata": {
        "id": "X3QKFEZ7gjnh",
        "colab": {
          "base_uri": "https://localhost:8080/",
          "height": 34
        },
        "outputId": "05abfb46-81a5-40cc-b8b0-de387c756167"
      },
      "source": [
        "my_phone"
      ],
      "execution_count": null,
      "outputs": [
        {
          "output_type": "execute_result",
          "data": {
            "text/plain": [
              "['iPhone 5s', False, 4.3, '3G']"
            ]
          },
          "metadata": {
            "tags": []
          },
          "execution_count": 23
        }
      ]
    },
    {
      "cell_type": "code",
      "metadata": {
        "id": "-7YGdU-kgl15"
      },
      "source": [
        "iPhone5s_some_pref = ['Single SIM', 35000]"
      ],
      "execution_count": null,
      "outputs": []
    },
    {
      "cell_type": "code",
      "metadata": {
        "id": "BB7vy-jygztU"
      },
      "source": [
        "my_phone += iPhone5s_some_pref"
      ],
      "execution_count": null,
      "outputs": []
    },
    {
      "cell_type": "code",
      "metadata": {
        "id": "GPV_ek62g9d0",
        "colab": {
          "base_uri": "https://localhost:8080/",
          "height": 34
        },
        "outputId": "6953a221-b854-4f7e-f239-ddff26b63dcb"
      },
      "source": [
        "print(my_phone)"
      ],
      "execution_count": null,
      "outputs": [
        {
          "output_type": "stream",
          "text": [
            "['iPhone 5s', False, 4.3, '3G', 'Single SIM', 35000]\n"
          ],
          "name": "stdout"
        }
      ]
    },
    {
      "cell_type": "code",
      "metadata": {
        "id": "CN9ffY0FhA0b",
        "colab": {
          "base_uri": "https://localhost:8080/",
          "height": 121
        },
        "outputId": "32661dd4-1f69-423b-a9cb-66bdce3a9bf5"
      },
      "source": [
        "for i in my_phone:\n",
        "  print(i)"
      ],
      "execution_count": null,
      "outputs": [
        {
          "output_type": "stream",
          "text": [
            "iPhone 5s\n",
            "False\n",
            "4.3\n",
            "3G\n",
            "Single SIM\n",
            "35000\n"
          ],
          "name": "stdout"
        }
      ]
    },
    {
      "cell_type": "code",
      "metadata": {
        "id": "tOFCaHZzhIh6"
      },
      "source": [
        "a = list(range(5))"
      ],
      "execution_count": null,
      "outputs": []
    },
    {
      "cell_type": "code",
      "metadata": {
        "id": "bBrh0qEmhf_8",
        "colab": {
          "base_uri": "https://localhost:8080/",
          "height": 34
        },
        "outputId": "8b5c805d-bd3b-46e8-ea00-caa98dfcef00"
      },
      "source": [
        "a"
      ],
      "execution_count": null,
      "outputs": [
        {
          "output_type": "execute_result",
          "data": {
            "text/plain": [
              "[0, 1, 2, 3, 4]"
            ]
          },
          "metadata": {
            "tags": []
          },
          "execution_count": 29
        }
      ]
    },
    {
      "cell_type": "code",
      "metadata": {
        "id": "hznqPJaZhg2_"
      },
      "source": [
        "b =  list(map(lambda x: x**2, a))"
      ],
      "execution_count": null,
      "outputs": []
    },
    {
      "cell_type": "code",
      "metadata": {
        "id": "KWfeJMe7hqIv",
        "colab": {
          "base_uri": "https://localhost:8080/",
          "height": 34
        },
        "outputId": "2e07b192-fc26-4025-81d8-985de7593cdd"
      },
      "source": [
        "b"
      ],
      "execution_count": null,
      "outputs": [
        {
          "output_type": "execute_result",
          "data": {
            "text/plain": [
              "[0, 1, 4, 9, 16]"
            ]
          },
          "metadata": {
            "tags": []
          },
          "execution_count": 31
        }
      ]
    },
    {
      "cell_type": "code",
      "metadata": {
        "id": "aiqlddK9hq-l"
      },
      "source": [
        "c = list(filter(lambda x: x%2 == 0,b))"
      ],
      "execution_count": null,
      "outputs": []
    },
    {
      "cell_type": "code",
      "metadata": {
        "id": "a6uZdjOsh19B",
        "colab": {
          "base_uri": "https://localhost:8080/",
          "height": 34
        },
        "outputId": "6e4106df-37dc-4665-a7bc-7bdb82b63de4"
      },
      "source": [
        "c"
      ],
      "execution_count": null,
      "outputs": [
        {
          "output_type": "execute_result",
          "data": {
            "text/plain": [
              "[0, 4, 16]"
            ]
          },
          "metadata": {
            "tags": []
          },
          "execution_count": 33
        }
      ]
    },
    {
      "cell_type": "markdown",
      "metadata": {
        "id": "-bIsMKcWjenR"
      },
      "source": [
        "# Tuple"
      ]
    },
    {
      "cell_type": "code",
      "metadata": {
        "id": "wjOGw4tUh2iz",
        "colab": {
          "base_uri": "https://localhost:8080/",
          "height": 52
        },
        "outputId": "3be5c4c5-b399-4fd5-ef7f-fa79ed15d2bd"
      },
      "source": [
        "my_phone_tuple = ('iPhone 5s', False, 4.3)\n",
        "print(my_phone_tuple)\n",
        "type(my_phone_tuple)"
      ],
      "execution_count": null,
      "outputs": [
        {
          "output_type": "stream",
          "text": [
            "('iPhone 5s', False, 4.3)\n"
          ],
          "name": "stdout"
        },
        {
          "output_type": "execute_result",
          "data": {
            "text/plain": [
              "tuple"
            ]
          },
          "metadata": {
            "tags": []
          },
          "execution_count": 34
        }
      ]
    },
    {
      "cell_type": "code",
      "metadata": {
        "id": "uqnaYzL2jcZW",
        "colab": {
          "base_uri": "https://localhost:8080/",
          "height": 104
        },
        "outputId": "d90374bd-6afd-441b-c40f-49901669a227"
      },
      "source": [
        "print(my_phone_tuple[2])\n",
        "print(my_phone_tuple[0:2])\n",
        "for i in my_phone_tuple:\n",
        "  print(i)\n"
      ],
      "execution_count": null,
      "outputs": [
        {
          "output_type": "stream",
          "text": [
            "4.3\n",
            "('iPhone 5s', False)\n",
            "iPhone 5s\n",
            "False\n",
            "4.3\n"
          ],
          "name": "stdout"
        }
      ]
    },
    {
      "cell_type": "code",
      "metadata": {
        "id": "PBiEFsREj9gB",
        "colab": {
          "base_uri": "https://localhost:8080/",
          "height": 167
        },
        "outputId": "9328b2bb-1a19-4689-e981-351fae8c17d6"
      },
      "source": [
        "my_phone_tuple[2] = 4     #Tuple cannot be modified "
      ],
      "execution_count": null,
      "outputs": [
        {
          "output_type": "error",
          "ename": "TypeError",
          "evalue": "ignored",
          "traceback": [
            "\u001b[0;31m---------------------------------------------------------------------------\u001b[0m",
            "\u001b[0;31mTypeError\u001b[0m                                 Traceback (most recent call last)",
            "\u001b[0;32m<ipython-input-36-51ba03ad1601>\u001b[0m in \u001b[0;36m<module>\u001b[0;34m()\u001b[0m\n\u001b[0;32m----> 1\u001b[0;31m \u001b[0mmy_phone_tuple\u001b[0m\u001b[0;34m[\u001b[0m\u001b[0;36m2\u001b[0m\u001b[0;34m]\u001b[0m \u001b[0;34m=\u001b[0m \u001b[0;36m4\u001b[0m     \u001b[0;31m#Tuple cannot be modified\u001b[0m\u001b[0;34m\u001b[0m\u001b[0;34m\u001b[0m\u001b[0m\n\u001b[0m",
            "\u001b[0;31mTypeError\u001b[0m: 'tuple' object does not support item assignment"
          ]
        }
      ]
    },
    {
      "cell_type": "code",
      "metadata": {
        "id": "wSFXDR6Gkfqp"
      },
      "source": [
        "import time"
      ],
      "execution_count": null,
      "outputs": []
    },
    {
      "cell_type": "code",
      "metadata": {
        "id": "vxM0v5SSkjgo",
        "colab": {
          "base_uri": "https://localhost:8080/",
          "height": 34
        },
        "outputId": "71dbd994-5cb5-4043-825b-8f8686cd80d0"
      },
      "source": [
        "my_list = list(range(10000000))\n",
        "tic = time.time()\n",
        "my_list_squared = list(map(lambda x: x**2,my_list))\n",
        "toc = time.time()\n",
        "print('Time consumed = ', toc-tic)\n"
      ],
      "execution_count": null,
      "outputs": [
        {
          "output_type": "stream",
          "text": [
            "Time consumed =  3.572984218597412\n"
          ],
          "name": "stdout"
        }
      ]
    },
    {
      "cell_type": "code",
      "metadata": {
        "id": "znfVQ6bskp3s",
        "colab": {
          "base_uri": "https://localhost:8080/",
          "height": 34
        },
        "outputId": "bf6e040b-bb28-4423-f8a2-010e9d9f62f0"
      },
      "source": [
        "my_tuple = tuple(range(10000000))\n",
        "tic = time.time()\n",
        "my_tuple_squared = tuple(map(lambda x: x**2,my_tuple))\n",
        "toc = time.time()\n",
        "print('Time consumed = ', toc-tic)"
      ],
      "execution_count": null,
      "outputs": [
        {
          "output_type": "stream",
          "text": [
            "Time consumed =  3.421105146408081\n"
          ],
          "name": "stdout"
        }
      ]
    },
    {
      "cell_type": "markdown",
      "metadata": {
        "id": "dTnuWXKQd1qe"
      },
      "source": [
        "**Note**\n",
        "\n",
        "1.  The time consumed by tuple is lesser as it is immutable.\n",
        "\n",
        "\n",
        "2.  Tuples are stored in single block, whereas list is stored in two blocks: a fixed and a variable one.\n",
        "\n",
        "\n",
        "3.  This slows the speed of indexing in lists"
      ]
    },
    {
      "cell_type": "markdown",
      "metadata": {
        "id": "jgMi7aqAg0Tj"
      },
      "source": [
        "# Dictionary"
      ]
    },
    {
      "cell_type": "code",
      "metadata": {
        "id": "QEIXGTNYl9IV",
        "colab": {
          "base_uri": "https://localhost:8080/",
          "height": 34
        },
        "outputId": "46bbc5a2-6d32-41cf-a9b3-6d7754819759"
      },
      "source": [
        "my_phone_dict = {}\n",
        "type(my_phone_dict)"
      ],
      "execution_count": null,
      "outputs": [
        {
          "output_type": "execute_result",
          "data": {
            "text/plain": [
              "dict"
            ]
          },
          "metadata": {
            "tags": []
          },
          "execution_count": 40
        }
      ]
    },
    {
      "cell_type": "code",
      "metadata": {
        "id": "XcYUkU1fhEsU"
      },
      "source": [
        "my_phone_dict['name'] = 'iPhone 5s'     #name is identifier key"
      ],
      "execution_count": null,
      "outputs": []
    },
    {
      "cell_type": "code",
      "metadata": {
        "id": "EFaPcydDhW-W"
      },
      "source": [
        "my_phone_dict['isAndroid'] = False\n",
        "my_phone_dict['ScreenSize'] = 4.3"
      ],
      "execution_count": null,
      "outputs": []
    },
    {
      "cell_type": "code",
      "metadata": {
        "id": "4A8-gyTchpf4",
        "colab": {
          "base_uri": "https://localhost:8080/",
          "height": 34
        },
        "outputId": "f47d92a1-0602-4d3c-b423-225e98598165"
      },
      "source": [
        "print(my_phone_dict)"
      ],
      "execution_count": null,
      "outputs": [
        {
          "output_type": "stream",
          "text": [
            "{'name': 'iPhone 5s', 'isAndroid': False, 'ScreenSize': 4.3}\n"
          ],
          "name": "stdout"
        }
      ]
    },
    {
      "cell_type": "code",
      "metadata": {
        "id": "lgweVjxPhuQZ",
        "colab": {
          "base_uri": "https://localhost:8080/",
          "height": 86
        },
        "outputId": "aaa1f528-e0ec-498f-9a16-34c8ef323100"
      },
      "source": [
        "print(my_phone_dict['name'])\n",
        "print(my_phone_dict.keys())\n",
        "print(my_phone_dict.values())\n",
        "print(my_phone_dict.items())"
      ],
      "execution_count": null,
      "outputs": [
        {
          "output_type": "stream",
          "text": [
            "iPhone 5s\n",
            "dict_keys(['name', 'isAndroid', 'ScreenSize'])\n",
            "dict_values(['iPhone 5s', False, 4.3])\n",
            "dict_items([('name', 'iPhone 5s'), ('isAndroid', False), ('ScreenSize', 4.3)])\n"
          ],
          "name": "stdout"
        }
      ]
    },
    {
      "cell_type": "code",
      "metadata": {
        "id": "I7Jg-U1uiOi7",
        "colab": {
          "base_uri": "https://localhost:8080/",
          "height": 69
        },
        "outputId": "d0addf76-c06d-4a49-8b39-df637b0121a5"
      },
      "source": [
        "for i in my_phone_dict.keys():\n",
        "  print(i)"
      ],
      "execution_count": null,
      "outputs": [
        {
          "output_type": "stream",
          "text": [
            "name\n",
            "isAndroid\n",
            "ScreenSize\n"
          ],
          "name": "stdout"
        }
      ]
    },
    {
      "cell_type": "markdown",
      "metadata": {
        "id": "7l_tGR7Pityz"
      },
      "source": [
        "# Packages"
      ]
    },
    {
      "cell_type": "code",
      "metadata": {
        "id": "M4sOy462ika3"
      },
      "source": [
        "import math         #math.h of pyhton"
      ],
      "execution_count": null,
      "outputs": []
    },
    {
      "cell_type": "code",
      "metadata": {
        "id": "tU79fzFvi1hB"
      },
      "source": [
        "a = math.sqrt(100)"
      ],
      "execution_count": null,
      "outputs": []
    },
    {
      "cell_type": "code",
      "metadata": {
        "id": "ZVGOdZ3qjbqW",
        "colab": {
          "base_uri": "https://localhost:8080/",
          "height": 34
        },
        "outputId": "bf1ed2c0-d4f7-4a8d-9456-4681ae2d132e"
      },
      "source": [
        "print(a)"
      ],
      "execution_count": null,
      "outputs": [
        {
          "output_type": "stream",
          "text": [
            "10.0\n"
          ],
          "name": "stdout"
        }
      ]
    },
    {
      "cell_type": "markdown",
      "metadata": {
        "id": "s2RDm5jLjmj8"
      },
      "source": [
        "if you want to use sqrt often and avoid typing math everytime do the following"
      ]
    },
    {
      "cell_type": "code",
      "metadata": {
        "id": "KsKjUSn1jd4K"
      },
      "source": [
        "from math import sqrt"
      ],
      "execution_count": null,
      "outputs": []
    },
    {
      "cell_type": "code",
      "metadata": {
        "id": "fJR-J4Qsj6CI",
        "colab": {
          "base_uri": "https://localhost:8080/",
          "height": 34
        },
        "outputId": "13ef58bf-5b92-4d8e-fba3-5f6720353d3d"
      },
      "source": [
        "a = sqrt(25)\n",
        "print(a)"
      ],
      "execution_count": null,
      "outputs": [
        {
          "output_type": "stream",
          "text": [
            "5.0\n"
          ],
          "name": "stdout"
        }
      ]
    },
    {
      "cell_type": "code",
      "metadata": {
        "id": "0FFiV-7-j-Sx"
      },
      "source": [
        "from math import *     #this will import all functions from the package. Avoid using to prevent confusions."
      ],
      "execution_count": null,
      "outputs": []
    },
    {
      "cell_type": "markdown",
      "metadata": {
        "id": "TixjwJ9TqYzw"
      },
      "source": [
        "You can also import your own package. It should be in .py format"
      ]
    },
    {
      "cell_type": "code",
      "metadata": {
        "id": "RwI28RkXkCZ7"
      },
      "source": [
        "!echo 'def hello():' > my_package.py\n",
        "!echo '    print(\"hello world\")' >> my_package.py"
      ],
      "execution_count": null,
      "outputs": []
    },
    {
      "cell_type": "code",
      "metadata": {
        "id": "DHdfTu7xqw01"
      },
      "source": [
        "import my_package  \n"
      ],
      "execution_count": null,
      "outputs": []
    },
    {
      "cell_type": "code",
      "metadata": {
        "id": "60CBVNa6rTua",
        "colab": {
          "base_uri": "https://localhost:8080/",
          "height": 34
        },
        "outputId": "b046951e-40dd-4b50-caad-42f83eee4bcf"
      },
      "source": [
        "my_package.hello()"
      ],
      "execution_count": null,
      "outputs": [
        {
          "output_type": "stream",
          "text": [
            "hello world\n"
          ],
          "name": "stdout"
        }
      ]
    },
    {
      "cell_type": "code",
      "metadata": {
        "id": "hKOAvSHpreVh"
      },
      "source": [
        "from my_package import hello"
      ],
      "execution_count": null,
      "outputs": []
    },
    {
      "cell_type": "code",
      "metadata": {
        "id": "tCFD-_lTrjLT",
        "colab": {
          "base_uri": "https://localhost:8080/",
          "height": 34
        },
        "outputId": "c0ead114-f11b-4835-8f5a-8d68a7c9b115"
      },
      "source": [
        "hello()"
      ],
      "execution_count": null,
      "outputs": [
        {
          "output_type": "stream",
          "text": [
            "hello world\n"
          ],
          "name": "stdout"
        }
      ]
    },
    {
      "cell_type": "markdown",
      "metadata": {
        "id": "sEgot5e9rs9E"
      },
      "source": [
        "# File Handling"
      ]
    },
    {
      "cell_type": "markdown",
      "metadata": {
        "id": "A9N_5cRwuDh2"
      },
      "source": [
        "Drive link for the file https://s3.amazonaws.com/thinkific-import/153034/mobile_cleaned-1549119762886.csv"
      ]
    },
    {
      "cell_type": "code",
      "metadata": {
        "id": "wa1vmK_HsBHB"
      },
      "source": [
        "file = open('mobile_cleaned.csv', 'r')"
      ],
      "execution_count": null,
      "outputs": []
    },
    {
      "cell_type": "code",
      "metadata": {
        "id": "VdxzPB7ntMAo",
        "colab": {
          "base_uri": "https://localhost:8080/",
          "height": 72
        },
        "outputId": "a00dc2a3-e419-4011-f4c8-2bbbb67d66a9"
      },
      "source": [
        "s = file.readline()\n",
        "print(s)"
      ],
      "execution_count": null,
      "outputs": [
        {
          "output_type": "stream",
          "text": [
            "sim_type,aperture,gpu_rank,weight,stand_by_time,processor_frequency,thickness,flash_type,front_camera_resolution,auto_focus,screen_size,frames_per_second,FM,no_of_reviews_in_gsmarena_in_week,os,phone_height,screen_protection,sim_size,price,talk_time,video_resolution,display_resolution,removable_battery,display_type,primary_camera_resolution,battery_type,ram_memory,internal_memory,brand_rank,no_of_cores,micro_sd_slot,screen_pixel_density,water_proof_rate,phone_width,expandable_memory,version,usb_type,battery_capacity,processor_rank,is_liked\n",
            "\n"
          ],
          "name": "stdout"
        }
      ]
    },
    {
      "cell_type": "code",
      "metadata": {
        "id": "RSLCgraitUeY",
        "colab": {
          "base_uri": "https://localhost:8080/",
          "height": 54
        },
        "outputId": "bdb9d625-a2ae-4f4c-e977-353e0c3751b4"
      },
      "source": [
        "print(s.split(','))"
      ],
      "execution_count": null,
      "outputs": [
        {
          "output_type": "stream",
          "text": [
            "['sim_type', 'aperture', 'gpu_rank', 'weight', 'stand_by_time', 'processor_frequency', 'thickness', 'flash_type', 'front_camera_resolution', 'auto_focus', 'screen_size', 'frames_per_second', 'FM', 'no_of_reviews_in_gsmarena_in_week', 'os', 'phone_height', 'screen_protection', 'sim_size', 'price', 'talk_time', 'video_resolution', 'display_resolution', 'removable_battery', 'display_type', 'primary_camera_resolution', 'battery_type', 'ram_memory', 'internal_memory', 'brand_rank', 'no_of_cores', 'micro_sd_slot', 'screen_pixel_density', 'water_proof_rate', 'phone_width', 'expandable_memory', 'version', 'usb_type', 'battery_capacity', 'processor_rank', 'is_liked\\n']\n"
          ],
          "name": "stdout"
        }
      ]
    },
    {
      "cell_type": "code",
      "metadata": {
        "id": "rhr7-keQuTA6"
      },
      "source": [
        "file.close()"
      ],
      "execution_count": null,
      "outputs": []
    },
    {
      "cell_type": "code",
      "metadata": {
        "id": "Z3UuVDTmugDq"
      },
      "source": [
        "with open('mobile_cleaned.csv') as file:\n",
        "  print(file.read())"
      ],
      "execution_count": null,
      "outputs": []
    },
    {
      "cell_type": "markdown",
      "metadata": {
        "id": "O-GXdOckxkX6"
      },
      "source": [
        "# NumPy"
      ]
    },
    {
      "cell_type": "code",
      "metadata": {
        "id": "H3A7BxcMuwVJ"
      },
      "source": [
        "import numpy as np"
      ],
      "execution_count": null,
      "outputs": []
    },
    {
      "cell_type": "code",
      "metadata": {
        "id": "qr6cjAKDxrXH",
        "colab": {
          "base_uri": "https://localhost:8080/",
          "height": 34
        },
        "outputId": "5cdaa410-635b-4cb8-fc50-a1b08c87c883"
      },
      "source": [
        "X = np.array([1, 2, 3])\n",
        "print(X)"
      ],
      "execution_count": null,
      "outputs": [
        {
          "output_type": "stream",
          "text": [
            "[1 2 3]\n"
          ],
          "name": "stdout"
        }
      ]
    },
    {
      "cell_type": "code",
      "metadata": {
        "id": "-UI8el2dxxn1",
        "colab": {
          "base_uri": "https://localhost:8080/",
          "height": 34
        },
        "outputId": "41964602-f0ef-4feb-ec9a-11bcea5b29c2"
      },
      "source": [
        "type(X)"
      ],
      "execution_count": null,
      "outputs": [
        {
          "output_type": "execute_result",
          "data": {
            "text/plain": [
              "numpy.ndarray"
            ]
          },
          "metadata": {
            "tags": []
          },
          "execution_count": 87
        }
      ]
    },
    {
      "cell_type": "code",
      "metadata": {
        "id": "jckx04Bdx_zH",
        "colab": {
          "base_uri": "https://localhost:8080/",
          "height": 34
        },
        "outputId": "7db30157-dd21-431b-fe17-e1f690ff6041"
      },
      "source": [
        "l = [4,5,6]\n",
        "X = np.asanyarray(l)\n",
        "type(X)"
      ],
      "execution_count": null,
      "outputs": [
        {
          "output_type": "execute_result",
          "data": {
            "text/plain": [
              "numpy.ndarray"
            ]
          },
          "metadata": {
            "tags": []
          },
          "execution_count": 88
        }
      ]
    },
    {
      "cell_type": "code",
      "metadata": {
        "id": "vDQvhs22yOMQ",
        "colab": {
          "base_uri": "https://localhost:8080/",
          "height": 34
        },
        "outputId": "07f3e34a-5d9e-49d9-b128-94885e203a37"
      },
      "source": [
        "print(X)"
      ],
      "execution_count": null,
      "outputs": [
        {
          "output_type": "stream",
          "text": [
            "[4 5 6]\n"
          ],
          "name": "stdout"
        }
      ]
    },
    {
      "cell_type": "code",
      "metadata": {
        "id": "QnstzJo2yRik",
        "colab": {
          "base_uri": "https://localhost:8080/",
          "height": 34
        },
        "outputId": "3c338a1c-a30d-43d4-de34-2155bd21ca9c"
      },
      "source": [
        "X = np.asanyarray( l, float)\n",
        "print(X)"
      ],
      "execution_count": null,
      "outputs": [
        {
          "output_type": "stream",
          "text": [
            "[4. 5. 6.]\n"
          ],
          "name": "stdout"
        }
      ]
    },
    {
      "cell_type": "code",
      "metadata": {
        "id": "8DRi1TJIyZd-",
        "colab": {
          "base_uri": "https://localhost:8080/",
          "height": 34
        },
        "outputId": "37963a49-08a7-46ac-ec6b-fefa4354963d"
      },
      "source": [
        "X.shape"
      ],
      "execution_count": null,
      "outputs": [
        {
          "output_type": "execute_result",
          "data": {
            "text/plain": [
              "(3,)"
            ]
          },
          "metadata": {
            "tags": []
          },
          "execution_count": 92
        }
      ]
    },
    {
      "cell_type": "code",
      "metadata": {
        "id": "TA9gLU1DyeJ8",
        "colab": {
          "base_uri": "https://localhost:8080/",
          "height": 69
        },
        "outputId": "dbab60e9-312c-4498-943e-b4bf3074d4be"
      },
      "source": [
        "X = np.array([[1,2,3],[4,5,6]])\n",
        "print(X)\n",
        "print(X.shape)"
      ],
      "execution_count": null,
      "outputs": [
        {
          "output_type": "stream",
          "text": [
            "[[1 2 3]\n",
            " [4 5 6]]\n",
            "(2, 3)\n"
          ],
          "name": "stdout"
        }
      ]
    },
    {
      "cell_type": "code",
      "metadata": {
        "id": "b5GucEFqy0ra",
        "colab": {
          "base_uri": "https://localhost:8080/",
          "height": 34
        },
        "outputId": "6a5ce689-d044-49dd-b6af-975058e5f9e5"
      },
      "source": [
        "X[0,0] "
      ],
      "execution_count": null,
      "outputs": [
        {
          "output_type": "execute_result",
          "data": {
            "text/plain": [
              "1"
            ]
          },
          "metadata": {
            "tags": []
          },
          "execution_count": 94
        }
      ]
    },
    {
      "cell_type": "code",
      "metadata": {
        "id": "ya3E3GO9y9Xb",
        "colab": {
          "base_uri": "https://localhost:8080/",
          "height": 34
        },
        "outputId": "b4c8ba2a-78d8-4b22-91ba-3f347916caea"
      },
      "source": [
        "X[1,0]"
      ],
      "execution_count": null,
      "outputs": [
        {
          "output_type": "execute_result",
          "data": {
            "text/plain": [
              "4"
            ]
          },
          "metadata": {
            "tags": []
          },
          "execution_count": 95
        }
      ]
    },
    {
      "cell_type": "code",
      "metadata": {
        "id": "QF-kXGlwzAGh"
      },
      "source": [
        "X = np.zeros((4,4))"
      ],
      "execution_count": null,
      "outputs": []
    },
    {
      "cell_type": "code",
      "metadata": {
        "id": "Cw-E2I8_zJJR",
        "colab": {
          "base_uri": "https://localhost:8080/",
          "height": 86
        },
        "outputId": "dc63bad5-3c5a-4da9-e525-4b311a860cbb"
      },
      "source": [
        "print(X)"
      ],
      "execution_count": null,
      "outputs": [
        {
          "output_type": "stream",
          "text": [
            "[[0. 0. 0. 0.]\n",
            " [0. 0. 0. 0.]\n",
            " [0. 0. 0. 0.]\n",
            " [0. 0. 0. 0.]]\n"
          ],
          "name": "stdout"
        }
      ]
    },
    {
      "cell_type": "code",
      "metadata": {
        "id": "Keioib_WzKfh"
      },
      "source": [
        "X = np.eye(4,4)"
      ],
      "execution_count": null,
      "outputs": []
    },
    {
      "cell_type": "code",
      "metadata": {
        "id": "wU1Lgp3EzSPM",
        "colab": {
          "base_uri": "https://localhost:8080/",
          "height": 86
        },
        "outputId": "020b559c-bbe7-4a1e-ac33-10a684e992e1"
      },
      "source": [
        "X"
      ],
      "execution_count": null,
      "outputs": [
        {
          "output_type": "execute_result",
          "data": {
            "text/plain": [
              "array([[1., 0., 0., 0.],\n",
              "       [0., 1., 0., 0.],\n",
              "       [0., 0., 1., 0.],\n",
              "       [0., 0., 0., 1.]])"
            ]
          },
          "metadata": {
            "tags": []
          },
          "execution_count": 100
        }
      ]
    },
    {
      "cell_type": "code",
      "metadata": {
        "id": "QmEG8WBTzTYJ",
        "colab": {
          "base_uri": "https://localhost:8080/",
          "height": 86
        },
        "outputId": "04271cb0-5f25-46d5-d2c9-40c0b8fbc49c"
      },
      "source": [
        "np.random.random((4,5))       #normally distributed between 0 and 1"
      ],
      "execution_count": null,
      "outputs": [
        {
          "output_type": "execute_result",
          "data": {
            "text/plain": [
              "array([[0.70404261, 0.70321022, 0.15430889, 0.44239699, 0.42153979],\n",
              "       [0.77280858, 0.38721282, 0.6913193 , 0.39673647, 0.50559481],\n",
              "       [0.97543332, 0.56169127, 0.88444065, 0.32024663, 0.48276692],\n",
              "       [0.2546615 , 0.24560869, 0.07744807, 0.41679081, 0.08056262]])"
            ]
          },
          "metadata": {
            "tags": []
          },
          "execution_count": 101
        }
      ]
    },
    {
      "cell_type": "code",
      "metadata": {
        "id": "6AypDF1XzYqL",
        "colab": {
          "base_uri": "https://localhost:8080/",
          "height": 86
        },
        "outputId": "cb6a9e3a-b3cb-4cd0-e628-2d68f80e2c41"
      },
      "source": [
        "Z = X.T\n",
        "print(Z)"
      ],
      "execution_count": null,
      "outputs": [
        {
          "output_type": "stream",
          "text": [
            "[[1. 0. 0. 0.]\n",
            " [0. 1. 0. 0.]\n",
            " [0. 0. 1. 0.]\n",
            " [0. 0. 0. 1.]]\n"
          ],
          "name": "stdout"
        }
      ]
    },
    {
      "cell_type": "code",
      "metadata": {
        "id": "IYVZXjvFzlAg",
        "colab": {
          "base_uri": "https://localhost:8080/",
          "height": 295
        },
        "outputId": "2d3e9ddf-165e-4046-d6b4-c9a37aea4140"
      },
      "source": [
        "Y = X.reshape(16,1)\n",
        "print(Y)"
      ],
      "execution_count": null,
      "outputs": [
        {
          "output_type": "stream",
          "text": [
            "[[1.]\n",
            " [0.]\n",
            " [0.]\n",
            " [0.]\n",
            " [0.]\n",
            " [1.]\n",
            " [0.]\n",
            " [0.]\n",
            " [0.]\n",
            " [0.]\n",
            " [1.]\n",
            " [0.]\n",
            " [0.]\n",
            " [0.]\n",
            " [0.]\n",
            " [1.]]\n"
          ],
          "name": "stdout"
        }
      ]
    },
    {
      "cell_type": "code",
      "metadata": {
        "id": "ztT-gyHZzpXy"
      },
      "source": [
        "A = np.arange(5)"
      ],
      "execution_count": null,
      "outputs": []
    },
    {
      "cell_type": "code",
      "metadata": {
        "id": "eaLKKlM7z2EU",
        "colab": {
          "base_uri": "https://localhost:8080/",
          "height": 34
        },
        "outputId": "d95b6c0f-8d70-4391-ead3-67e33c1c157d"
      },
      "source": [
        "print(A)"
      ],
      "execution_count": null,
      "outputs": [
        {
          "output_type": "stream",
          "text": [
            "[0 1 2 3 4]\n"
          ],
          "name": "stdout"
        }
      ]
    },
    {
      "cell_type": "markdown",
      "metadata": {
        "id": "OEfJP3VhDR1B"
      },
      "source": [
        "# Ploting"
      ]
    },
    {
      "cell_type": "code",
      "metadata": {
        "id": "f2TTW3gODUMi"
      },
      "source": [
        "import matplotlib.pyplot as plt"
      ],
      "execution_count": null,
      "outputs": []
    },
    {
      "cell_type": "code",
      "metadata": {
        "id": "vCU8Xjz9Db7u"
      },
      "source": [
        "x = np.random.random((10,1))"
      ],
      "execution_count": null,
      "outputs": []
    },
    {
      "cell_type": "code",
      "metadata": {
        "id": "SolSTdKFDiYK",
        "colab": {
          "base_uri": "https://localhost:8080/",
          "height": 265
        },
        "outputId": "46b214c5-a951-4980-ab43-07dbb108b4f0"
      },
      "source": [
        "plt.plot(x)\n",
        "plt.show()"
      ],
      "execution_count": null,
      "outputs": [
        {
          "output_type": "display_data",
          "data": {
            "image/png": "[encoded data removed]",
            "text/plain": [
              "<Figure size 432x288 with 1 Axes>"
            ]
          },
          "metadata": {
            "tags": [],
            "needs_background": "light"
          }
        }
      ]
    },
    {
      "cell_type": "code",
      "metadata": {
        "id": "1lMhmjN3Doe1",
        "colab": {
          "base_uri": "https://localhost:8080/",
          "height": 265
        },
        "outputId": "b7734d57-270e-4c7e-8db7-ff97cc025930"
      },
      "source": [
        "plt.plot(x,'*')\n",
        "plt.show()"
      ],
      "execution_count": null,
      "outputs": [
        {
          "output_type": "display_data",
          "data": {
            "image/png": "[encoded data removed]",
            "text/plain": [
              "<Figure size 432x288 with 1 Axes>"
            ]
          },
          "metadata": {
            "tags": [],
            "needs_background": "light"
          }
        }
      ]
    },
    {
      "cell_type": "code",
      "metadata": {
        "id": "kLH75HB6D0Jm",
        "colab": {
          "base_uri": "https://localhost:8080/",
          "height": 265
        },
        "outputId": "c97e1342-571d-43ca-f1ae-ce141241417a"
      },
      "source": [
        "plt.plot(x,'*-')\n",
        "plt.show()"
      ],
      "execution_count": null,
      "outputs": [
        {
          "output_type": "display_data",
          "data": {
            "image/png": "[encoded data removed]",
            "text/plain": [
              "<Figure size 432x288 with 1 Axes>"
            ]
          },
          "metadata": {
            "tags": [],
            "needs_background": "light"
          }
        }
      ]
    },
    {
      "cell_type": "code",
      "metadata": {
        "id": "ghzqg4sLD2Vi"
      },
      "source": [
        "x = np.linspace(0,10,100)     #Linear interpolation of 100 values between 0 and 10"
      ],
      "execution_count": null,
      "outputs": []
    },
    {
      "cell_type": "code",
      "metadata": {
        "id": "orKyHMe4ENa4"
      },
      "source": [
        "y = np.power(x ,0.5)"
      ],
      "execution_count": null,
      "outputs": []
    },
    {
      "cell_type": "code",
      "metadata": {
        "id": "z5k6NODkEVs8",
        "colab": {
          "base_uri": "https://localhost:8080/",
          "height": 265
        },
        "outputId": "08c50843-ec22-4980-b3eb-48b7d4de402c"
      },
      "source": [
        "plt.plot(x,y)\n",
        "plt.show()"
      ],
      "execution_count": null,
      "outputs": [
        {
          "output_type": "display_data",
          "data": {
            "image/png": "[encoded data removed]",
            "text/plain": [
              "<Figure size 432x288 with 1 Axes>"
            ]
          },
          "metadata": {
            "tags": [],
            "needs_background": "light"
          }
        }
      ]
    },
    {
      "cell_type": "code",
      "metadata": {
        "id": "Ixz5VVS5EcHs",
        "colab": {
          "base_uri": "https://localhost:8080/",
          "height": 72
        },
        "outputId": "cc4d5c33-b72b-4194-ea44-2b3a75f0d853"
      },
      "source": [
        "import seaborn as sns"
      ],
      "execution_count": null,
      "outputs": [
        {
          "output_type": "stream",
          "text": [
            "/usr/local/lib/python3.6/dist-packages/statsmodels/tools/_testing.py:19: FutureWarning: pandas.util.testing is deprecated. Use the functions in the public API at pandas.testing instead.\n",
            "  import pandas.util.testing as tm\n"
          ],
          "name": "stderr"
        }
      ]
    },
    {
      "cell_type": "code",
      "metadata": {
        "id": "6mDWjULiFHZC"
      },
      "source": [
        "sns.set()"
      ],
      "execution_count": null,
      "outputs": []
    },
    {
      "cell_type": "code",
      "metadata": {
        "id": "DQFG_RUjFmh4",
        "colab": {
          "base_uri": "https://localhost:8080/",
          "height": 268
        },
        "outputId": "5c0ecdc0-eb00-4645-f151-03ebf4b799bc"
      },
      "source": [
        "sns.lineplot(x, y)\n",
        "plt.show()"
      ],
      "execution_count": null,
      "outputs": [
        {
          "output_type": "display_data",
          "data": {
            "image/png": "[encoded data removed]",
            "text/plain": [
              "<Figure size 432x288 with 1 Axes>"
            ]
          },
          "metadata": {
            "tags": []
          }
        }
      ]
    },
    {
      "cell_type": "code",
      "metadata": {
        "id": "7xig3CjBFp8X",
        "colab": {
          "base_uri": "https://localhost:8080/",
          "height": 226
        },
        "outputId": "a794a8d1-4565-4d61-927a-6fdef914b227"
      },
      "source": [
        "import pandas as pd\n",
        "data = pd.read_csv('mobile_cleaned.csv') \n",
        "data.head() "
      ],
      "execution_count": null,
      "outputs": [
        {
          "output_type": "execute_result",
          "data": {
            "text/html": [
              "<div>\n",
              "<style scoped>\n",
              "    .dataframe tbody tr th:only-of-type {\n",
              "        vertical-align: middle;\n",
              "    }\n",
              "\n",
              "    .dataframe tbody tr th {\n",
              "        vertical-align: top;\n",
              "    }\n",
              "\n",
              "    .dataframe thead th {\n",
              "        text-align: right;\n",
              "    }\n",
              "</style>\n",
              "<table border=\"1\" class=\"dataframe\">\n",
              "  <thead>\n",
              "    <tr style=\"text-align: right;\">\n",
              "      <th></th>\n",
              "      <th>sim_type</th>\n",
              "      <th>aperture</th>\n",
              "      <th>gpu_rank</th>\n",
              "      <th>weight</th>\n",
              "      <th>stand_by_time</th>\n",
              "      <th>processor_frequency</th>\n",
              "      <th>thickness</th>\n",
              "      <th>flash_type</th>\n",
              "      <th>front_camera_resolution</th>\n",
              "      <th>auto_focus</th>\n",
              "      <th>screen_size</th>\n",
              "      <th>frames_per_second</th>\n",
              "      <th>FM</th>\n",
              "      <th>no_of_reviews_in_gsmarena_in_week</th>\n",
              "      <th>os</th>\n",
              "      <th>phone_height</th>\n",
              "      <th>screen_protection</th>\n",
              "      <th>sim_size</th>\n",
              "      <th>price</th>\n",
              "      <th>talk_time</th>\n",
              "      <th>video_resolution</th>\n",
              "      <th>display_resolution</th>\n",
              "      <th>removable_battery</th>\n",
              "      <th>display_type</th>\n",
              "      <th>primary_camera_resolution</th>\n",
              "      <th>battery_type</th>\n",
              "      <th>ram_memory</th>\n",
              "      <th>internal_memory</th>\n",
              "      <th>brand_rank</th>\n",
              "      <th>no_of_cores</th>\n",
              "      <th>micro_sd_slot</th>\n",
              "      <th>screen_pixel_density</th>\n",
              "      <th>water_proof_rate</th>\n",
              "      <th>phone_width</th>\n",
              "      <th>expandable_memory</th>\n",
              "      <th>version</th>\n",
              "      <th>usb_type</th>\n",
              "      <th>battery_capacity</th>\n",
              "      <th>processor_rank</th>\n",
              "      <th>is_liked</th>\n",
              "    </tr>\n",
              "  </thead>\n",
              "  <tbody>\n",
              "    <tr>\n",
              "      <th>0</th>\n",
              "      <td>0</td>\n",
              "      <td>12</td>\n",
              "      <td>55</td>\n",
              "      <td>155.0</td>\n",
              "      <td>250</td>\n",
              "      <td>1.3</td>\n",
              "      <td>10.5</td>\n",
              "      <td>5</td>\n",
              "      <td>2.00</td>\n",
              "      <td>0</td>\n",
              "      <td>4.5</td>\n",
              "      <td>15</td>\n",
              "      <td>3</td>\n",
              "      <td>0</td>\n",
              "      <td>0</td>\n",
              "      <td>132.9</td>\n",
              "      <td>26</td>\n",
              "      <td>3</td>\n",
              "      <td>3870</td>\n",
              "      <td>9</td>\n",
              "      <td>480</td>\n",
              "      <td>12</td>\n",
              "      <td>3</td>\n",
              "      <td>11</td>\n",
              "      <td>5.00</td>\n",
              "      <td>1</td>\n",
              "      <td>1</td>\n",
              "      <td>7</td>\n",
              "      <td>29</td>\n",
              "      <td>6</td>\n",
              "      <td>4</td>\n",
              "      <td>2</td>\n",
              "      <td>3</td>\n",
              "      <td>67.8</td>\n",
              "      <td>64.0</td>\n",
              "      <td>5</td>\n",
              "      <td>3</td>\n",
              "      <td>2000</td>\n",
              "      <td>125</td>\n",
              "      <td>1</td>\n",
              "    </tr>\n",
              "    <tr>\n",
              "      <th>1</th>\n",
              "      <td>0</td>\n",
              "      <td>1</td>\n",
              "      <td>55</td>\n",
              "      <td>132.0</td>\n",
              "      <td>300</td>\n",
              "      <td>1.3</td>\n",
              "      <td>10.6</td>\n",
              "      <td>5</td>\n",
              "      <td>0.30</td>\n",
              "      <td>1</td>\n",
              "      <td>4.0</td>\n",
              "      <td>30</td>\n",
              "      <td>2</td>\n",
              "      <td>6</td>\n",
              "      <td>0</td>\n",
              "      <td>124.5</td>\n",
              "      <td>26</td>\n",
              "      <td>5</td>\n",
              "      <td>4059</td>\n",
              "      <td>9</td>\n",
              "      <td>720</td>\n",
              "      <td>15</td>\n",
              "      <td>3</td>\n",
              "      <td>11</td>\n",
              "      <td>5.00</td>\n",
              "      <td>1</td>\n",
              "      <td>1</td>\n",
              "      <td>7</td>\n",
              "      <td>11</td>\n",
              "      <td>6</td>\n",
              "      <td>4</td>\n",
              "      <td>4</td>\n",
              "      <td>6</td>\n",
              "      <td>64.0</td>\n",
              "      <td>32.0</td>\n",
              "      <td>5</td>\n",
              "      <td>3</td>\n",
              "      <td>2000</td>\n",
              "      <td>165</td>\n",
              "      <td>1</td>\n",
              "    </tr>\n",
              "    <tr>\n",
              "      <th>2</th>\n",
              "      <td>0</td>\n",
              "      <td>9</td>\n",
              "      <td>55</td>\n",
              "      <td>142.0</td>\n",
              "      <td>329</td>\n",
              "      <td>1.5</td>\n",
              "      <td>8.5</td>\n",
              "      <td>5</td>\n",
              "      <td>2.00</td>\n",
              "      <td>3</td>\n",
              "      <td>5.0</td>\n",
              "      <td>30</td>\n",
              "      <td>2</td>\n",
              "      <td>20</td>\n",
              "      <td>0</td>\n",
              "      <td>145.5</td>\n",
              "      <td>4</td>\n",
              "      <td>3</td>\n",
              "      <td>4777</td>\n",
              "      <td>10</td>\n",
              "      <td>1080</td>\n",
              "      <td>4</td>\n",
              "      <td>3</td>\n",
              "      <td>1</td>\n",
              "      <td>5.04</td>\n",
              "      <td>2</td>\n",
              "      <td>1</td>\n",
              "      <td>7</td>\n",
              "      <td>27</td>\n",
              "      <td>6</td>\n",
              "      <td>4</td>\n",
              "      <td>9</td>\n",
              "      <td>6</td>\n",
              "      <td>72.0</td>\n",
              "      <td>32.0</td>\n",
              "      <td>6</td>\n",
              "      <td>3</td>\n",
              "      <td>2500</td>\n",
              "      <td>164</td>\n",
              "      <td>0</td>\n",
              "    </tr>\n",
              "    <tr>\n",
              "      <th>3</th>\n",
              "      <td>0</td>\n",
              "      <td>8</td>\n",
              "      <td>55</td>\n",
              "      <td>152.0</td>\n",
              "      <td>385</td>\n",
              "      <td>1.3</td>\n",
              "      <td>8.0</td>\n",
              "      <td>5</td>\n",
              "      <td>2.00</td>\n",
              "      <td>3</td>\n",
              "      <td>5.0</td>\n",
              "      <td>15</td>\n",
              "      <td>3</td>\n",
              "      <td>0</td>\n",
              "      <td>0</td>\n",
              "      <td>147.5</td>\n",
              "      <td>26</td>\n",
              "      <td>3</td>\n",
              "      <td>5799</td>\n",
              "      <td>19</td>\n",
              "      <td>720</td>\n",
              "      <td>17</td>\n",
              "      <td>3</td>\n",
              "      <td>2</td>\n",
              "      <td>5.00</td>\n",
              "      <td>1</td>\n",
              "      <td>1</td>\n",
              "      <td>7</td>\n",
              "      <td>4</td>\n",
              "      <td>6</td>\n",
              "      <td>4</td>\n",
              "      <td>1</td>\n",
              "      <td>3</td>\n",
              "      <td>75.1</td>\n",
              "      <td>32.0</td>\n",
              "      <td>6</td>\n",
              "      <td>3</td>\n",
              "      <td>3000</td>\n",
              "      <td>165</td>\n",
              "      <td>1</td>\n",
              "    </tr>\n",
              "    <tr>\n",
              "      <th>4</th>\n",
              "      <td>1</td>\n",
              "      <td>1</td>\n",
              "      <td>55</td>\n",
              "      <td>234.0</td>\n",
              "      <td>385</td>\n",
              "      <td>1.3</td>\n",
              "      <td>7.9</td>\n",
              "      <td>5</td>\n",
              "      <td>1.92</td>\n",
              "      <td>3</td>\n",
              "      <td>5.0</td>\n",
              "      <td>15</td>\n",
              "      <td>3</td>\n",
              "      <td>0</td>\n",
              "      <td>0</td>\n",
              "      <td>179.0</td>\n",
              "      <td>18</td>\n",
              "      <td>3</td>\n",
              "      <td>5990</td>\n",
              "      <td>11</td>\n",
              "      <td>720</td>\n",
              "      <td>17</td>\n",
              "      <td>3</td>\n",
              "      <td>1</td>\n",
              "      <td>5.00</td>\n",
              "      <td>1</td>\n",
              "      <td>1</td>\n",
              "      <td>7</td>\n",
              "      <td>4</td>\n",
              "      <td>6</td>\n",
              "      <td>4</td>\n",
              "      <td>1</td>\n",
              "      <td>6</td>\n",
              "      <td>91.0</td>\n",
              "      <td>32.0</td>\n",
              "      <td>6</td>\n",
              "      <td>3</td>\n",
              "      <td>3000</td>\n",
              "      <td>165</td>\n",
              "      <td>0</td>\n",
              "    </tr>\n",
              "  </tbody>\n",
              "</table>\n",
              "</div>"
            ],
            "text/plain": [
              "   sim_type  aperture  gpu_rank  ...  battery_capacity  processor_rank  is_liked\n",
              "0         0        12        55  ...              2000             125         1\n",
              "1         0         1        55  ...              2000             165         1\n",
              "2         0         9        55  ...              2500             164         0\n",
              "3         0         8        55  ...              3000             165         1\n",
              "4         1         1        55  ...              3000             165         0\n",
              "\n",
              "[5 rows x 40 columns]"
            ]
          },
          "metadata": {
            "tags": []
          },
          "execution_count": 123
        }
      ]
    },
    {
      "cell_type": "code",
      "metadata": {
        "id": "QTVIDKn1GPQh",
        "colab": {
          "base_uri": "https://localhost:8080/",
          "height": 285
        },
        "outputId": "dd2fd7b4-3fce-4c8b-b00c-499a06b86dc3"
      },
      "source": [
        "ax = sns.scatterplot(x = \"stand_by_time\", y = \"battery_capacity\", data = data)"
      ],
      "execution_count": null,
      "outputs": [
        {
          "output_type": "display_data",
          "data": {
            "image/png": "[encoded data removed]",
            "text/plain": [
              "<Figure size 432x288 with 1 Axes>"
            ]
          },
          "metadata": {
            "tags": []
          }
        }
      ]
    },
    {
      "cell_type": "code",
      "metadata": {
        "id": "7NgtLNp5HxDm",
        "colab": {
          "base_uri": "https://localhost:8080/",
          "height": 285
        },
        "outputId": "11abef2f-d451-4047-d013-b095672645e8"
      },
      "source": [
        "ax = sns.scatterplot(x = \"stand_by_time\", y = \"battery_capacity\", hue = 'thickness', data = data)"
      ],
      "execution_count": null,
      "outputs": [
        {
          "output_type": "display_data",
          "data": {
            "image/png": "[encoded data removed]",
            "text/plain": [
              "<Figure size 432x288 with 1 Axes>"
            ]
          },
          "metadata": {
            "tags": []
          }
        }
      ]
    },
    {
      "cell_type": "code",
      "metadata": {
        "id": "kHYJ5ERXIXL2",
        "colab": {
          "base_uri": "https://localhost:8080/",
          "height": 285
        },
        "outputId": "ca2b269c-82c8-4e48-9792-ffeb32b85528"
      },
      "source": [
        "ax = sns.distplot(data['stand_by_time'])"
      ],
      "execution_count": null,
      "outputs": [
        {
          "output_type": "display_data",
          "data": {
            "image/png": "[encoded data removed]",
            "text/plain": [
              "<Figure size 432x288 with 1 Axes>"
            ]
          },
          "metadata": {
            "tags": []
          }
        }
      ]
    },
    {
      "cell_type": "code",
      "metadata": {
        "id": "dnuK9WZGIvk2",
        "colab": {
          "base_uri": "https://localhost:8080/",
          "height": 285
        },
        "outputId": "a578ec29-36a7-429f-a142-029f39f826d6"
      },
      "source": [
        "ax = sns.distplot(data['stand_by_time'], kde = False, rug = True)"
      ],
      "execution_count": null,
      "outputs": [
        {
          "output_type": "display_data",
          "data": {
            "image/png": "[encoded data removed]",
            "text/plain": [
              "<Figure size 432x288 with 1 Axes>"
            ]
          },
          "metadata": {
            "tags": []
          }
        }
      ]
    },
    {
      "cell_type": "code",
      "metadata": {
        "id": "pL4FvJhIJb2e",
        "colab": {
          "base_uri": "https://localhost:8080/",
          "height": 285
        },
        "outputId": "ad64ad25-0da0-4a5d-9be2-47e3255bfb58"
      },
      "source": [
        "ax = sns.distplot(data['stand_by_time'], kde = False, rug = True, bins = 20)"
      ],
      "execution_count": null,
      "outputs": [
        {
          "output_type": "display_data",
          "data": {
            "image/png": "[encoded data removed]",
            "text/plain": [
              "<Figure size 432x288 with 1 Axes>"
            ]
          },
          "metadata": {
            "tags": []
          }
        }
      ]
    },
    {
      "cell_type": "code",
      "metadata": {
        "id": "X8v0oyoKJfXB",
        "colab": {
          "base_uri": "https://localhost:8080/",
          "height": 285
        },
        "outputId": "8d05f6c4-8f1f-4c71-edf1-c31c3bd69b9e"
      },
      "source": [
        "ax = sns.boxplot(x = \"is_liked\", y = \"battery_capacity\", data = data)"
      ],
      "execution_count": null,
      "outputs": [
        {
          "output_type": "display_data",
          "data": {
            "image/png": "[encoded data removed]",
            "text/plain": [
              "<Figure size 432x288 with 1 Axes>"
            ]
          },
          "metadata": {
            "tags": []
          }
        }
      ]
    },
    {
      "cell_type": "code",
      "metadata": {
        "id": "NAwnJ6g7J3cY"
      },
      "source": [
        "Uniform_data = np.random.random((10,12))"
      ],
      "execution_count": null,
      "outputs": []
    },
    {
      "cell_type": "code",
      "metadata": {
        "id": "BhiI6er9K5mu",
        "colab": {
          "base_uri": "https://localhost:8080/",
          "height": 268
        },
        "outputId": "f94961a8-cfd0-40a9-b55d-4e65087242ca"
      },
      "source": [
        "ax = sns.heatmap(Uniform_data, cmap= \"YlGnBu\")"
      ],
      "execution_count": null,
      "outputs": [
        {
          "output_type": "display_data",
          "data": {
            "image/png": "[encoded data removed]",
            "text/plain": [
              "<Figure size 432x288 with 2 Axes>"
            ]
          },
          "metadata": {
            "tags": []
          }
        }
      ]
    },
    {
      "cell_type": "markdown",
      "metadata": {
        "id": "1kkTPg4qO-Gt"
      },
      "source": [
        "# Pandas"
      ]
    },
    {
      "cell_type": "markdown",
      "metadata": {
        "id": "hxj84rS9SzT5"
      },
      "source": [
        "Pandas is motivated by SQL. So many operations are available which has sql origin"
      ]
    },
    {
      "cell_type": "code",
      "metadata": {
        "id": "MNfmuhWYLECY"
      },
      "source": [
        "import pandas as pd"
      ],
      "execution_count": null,
      "outputs": []
    },
    {
      "cell_type": "code",
      "metadata": {
        "id": "Pu6Ayq0LPIcq",
        "colab": {
          "base_uri": "https://localhost:8080/",
          "height": 226
        },
        "outputId": "fe7e2e6d-8c42-44b1-9f76-d557720cdaff"
      },
      "source": [
        "df = pd.read_csv('mobile_cleaned.csv')\n",
        "df.head()"
      ],
      "execution_count": null,
      "outputs": [
        {
          "output_type": "execute_result",
          "data": {
            "text/html": [
              "<div>\n",
              "<style scoped>\n",
              "    .dataframe tbody tr th:only-of-type {\n",
              "        vertical-align: middle;\n",
              "    }\n",
              "\n",
              "    .dataframe tbody tr th {\n",
              "        vertical-align: top;\n",
              "    }\n",
              "\n",
              "    .dataframe thead th {\n",
              "        text-align: right;\n",
              "    }\n",
              "</style>\n",
              "<table border=\"1\" class=\"dataframe\">\n",
              "  <thead>\n",
              "    <tr style=\"text-align: right;\">\n",
              "      <th></th>\n",
              "      <th>sim_type</th>\n",
              "      <th>aperture</th>\n",
              "      <th>gpu_rank</th>\n",
              "      <th>weight</th>\n",
              "      <th>stand_by_time</th>\n",
              "      <th>processor_frequency</th>\n",
              "      <th>thickness</th>\n",
              "      <th>flash_type</th>\n",
              "      <th>front_camera_resolution</th>\n",
              "      <th>auto_focus</th>\n",
              "      <th>screen_size</th>\n",
              "      <th>frames_per_second</th>\n",
              "      <th>FM</th>\n",
              "      <th>no_of_reviews_in_gsmarena_in_week</th>\n",
              "      <th>os</th>\n",
              "      <th>phone_height</th>\n",
              "      <th>screen_protection</th>\n",
              "      <th>sim_size</th>\n",
              "      <th>price</th>\n",
              "      <th>talk_time</th>\n",
              "      <th>video_resolution</th>\n",
              "      <th>display_resolution</th>\n",
              "      <th>removable_battery</th>\n",
              "      <th>display_type</th>\n",
              "      <th>primary_camera_resolution</th>\n",
              "      <th>battery_type</th>\n",
              "      <th>ram_memory</th>\n",
              "      <th>internal_memory</th>\n",
              "      <th>brand_rank</th>\n",
              "      <th>no_of_cores</th>\n",
              "      <th>micro_sd_slot</th>\n",
              "      <th>screen_pixel_density</th>\n",
              "      <th>water_proof_rate</th>\n",
              "      <th>phone_width</th>\n",
              "      <th>expandable_memory</th>\n",
              "      <th>version</th>\n",
              "      <th>usb_type</th>\n",
              "      <th>battery_capacity</th>\n",
              "      <th>processor_rank</th>\n",
              "      <th>is_liked</th>\n",
              "    </tr>\n",
              "  </thead>\n",
              "  <tbody>\n",
              "    <tr>\n",
              "      <th>0</th>\n",
              "      <td>0</td>\n",
              "      <td>12</td>\n",
              "      <td>55</td>\n",
              "      <td>155.0</td>\n",
              "      <td>250</td>\n",
              "      <td>1.3</td>\n",
              "      <td>10.5</td>\n",
              "      <td>5</td>\n",
              "      <td>2.00</td>\n",
              "      <td>0</td>\n",
              "      <td>4.5</td>\n",
              "      <td>15</td>\n",
              "      <td>3</td>\n",
              "      <td>0</td>\n",
              "      <td>0</td>\n",
              "      <td>132.9</td>\n",
              "      <td>26</td>\n",
              "      <td>3</td>\n",
              "      <td>3870</td>\n",
              "      <td>9</td>\n",
              "      <td>480</td>\n",
              "      <td>12</td>\n",
              "      <td>3</td>\n",
              "      <td>11</td>\n",
              "      <td>5.00</td>\n",
              "      <td>1</td>\n",
              "      <td>1</td>\n",
              "      <td>7</td>\n",
              "      <td>29</td>\n",
              "      <td>6</td>\n",
              "      <td>4</td>\n",
              "      <td>2</td>\n",
              "      <td>3</td>\n",
              "      <td>67.8</td>\n",
              "      <td>64.0</td>\n",
              "      <td>5</td>\n",
              "      <td>3</td>\n",
              "      <td>2000</td>\n",
              "      <td>125</td>\n",
              "      <td>1</td>\n",
              "    </tr>\n",
              "    <tr>\n",
              "      <th>1</th>\n",
              "      <td>0</td>\n",
              "      <td>1</td>\n",
              "      <td>55</td>\n",
              "      <td>132.0</td>\n",
              "      <td>300</td>\n",
              "      <td>1.3</td>\n",
              "      <td>10.6</td>\n",
              "      <td>5</td>\n",
              "      <td>0.30</td>\n",
              "      <td>1</td>\n",
              "      <td>4.0</td>\n",
              "      <td>30</td>\n",
              "      <td>2</td>\n",
              "      <td>6</td>\n",
              "      <td>0</td>\n",
              "      <td>124.5</td>\n",
              "      <td>26</td>\n",
              "      <td>5</td>\n",
              "      <td>4059</td>\n",
              "      <td>9</td>\n",
              "      <td>720</td>\n",
              "      <td>15</td>\n",
              "      <td>3</td>\n",
              "      <td>11</td>\n",
              "      <td>5.00</td>\n",
              "      <td>1</td>\n",
              "      <td>1</td>\n",
              "      <td>7</td>\n",
              "      <td>11</td>\n",
              "      <td>6</td>\n",
              "      <td>4</td>\n",
              "      <td>4</td>\n",
              "      <td>6</td>\n",
              "      <td>64.0</td>\n",
              "      <td>32.0</td>\n",
              "      <td>5</td>\n",
              "      <td>3</td>\n",
              "      <td>2000</td>\n",
              "      <td>165</td>\n",
              "      <td>1</td>\n",
              "    </tr>\n",
              "    <tr>\n",
              "      <th>2</th>\n",
              "      <td>0</td>\n",
              "      <td>9</td>\n",
              "      <td>55</td>\n",
              "      <td>142.0</td>\n",
              "      <td>329</td>\n",
              "      <td>1.5</td>\n",
              "      <td>8.5</td>\n",
              "      <td>5</td>\n",
              "      <td>2.00</td>\n",
              "      <td>3</td>\n",
              "      <td>5.0</td>\n",
              "      <td>30</td>\n",
              "      <td>2</td>\n",
              "      <td>20</td>\n",
              "      <td>0</td>\n",
              "      <td>145.5</td>\n",
              "      <td>4</td>\n",
              "      <td>3</td>\n",
              "      <td>4777</td>\n",
              "      <td>10</td>\n",
              "      <td>1080</td>\n",
              "      <td>4</td>\n",
              "      <td>3</td>\n",
              "      <td>1</td>\n",
              "      <td>5.04</td>\n",
              "      <td>2</td>\n",
              "      <td>1</td>\n",
              "      <td>7</td>\n",
              "      <td>27</td>\n",
              "      <td>6</td>\n",
              "      <td>4</td>\n",
              "      <td>9</td>\n",
              "      <td>6</td>\n",
              "      <td>72.0</td>\n",
              "      <td>32.0</td>\n",
              "      <td>6</td>\n",
              "      <td>3</td>\n",
              "      <td>2500</td>\n",
              "      <td>164</td>\n",
              "      <td>0</td>\n",
              "    </tr>\n",
              "    <tr>\n",
              "      <th>3</th>\n",
              "      <td>0</td>\n",
              "      <td>8</td>\n",
              "      <td>55</td>\n",
              "      <td>152.0</td>\n",
              "      <td>385</td>\n",
              "      <td>1.3</td>\n",
              "      <td>8.0</td>\n",
              "      <td>5</td>\n",
              "      <td>2.00</td>\n",
              "      <td>3</td>\n",
              "      <td>5.0</td>\n",
              "      <td>15</td>\n",
              "      <td>3</td>\n",
              "      <td>0</td>\n",
              "      <td>0</td>\n",
              "      <td>147.5</td>\n",
              "      <td>26</td>\n",
              "      <td>3</td>\n",
              "      <td>5799</td>\n",
              "      <td>19</td>\n",
              "      <td>720</td>\n",
              "      <td>17</td>\n",
              "      <td>3</td>\n",
              "      <td>2</td>\n",
              "      <td>5.00</td>\n",
              "      <td>1</td>\n",
              "      <td>1</td>\n",
              "      <td>7</td>\n",
              "      <td>4</td>\n",
              "      <td>6</td>\n",
              "      <td>4</td>\n",
              "      <td>1</td>\n",
              "      <td>3</td>\n",
              "      <td>75.1</td>\n",
              "      <td>32.0</td>\n",
              "      <td>6</td>\n",
              "      <td>3</td>\n",
              "      <td>3000</td>\n",
              "      <td>165</td>\n",
              "      <td>1</td>\n",
              "    </tr>\n",
              "    <tr>\n",
              "      <th>4</th>\n",
              "      <td>1</td>\n",
              "      <td>1</td>\n",
              "      <td>55</td>\n",
              "      <td>234.0</td>\n",
              "      <td>385</td>\n",
              "      <td>1.3</td>\n",
              "      <td>7.9</td>\n",
              "      <td>5</td>\n",
              "      <td>1.92</td>\n",
              "      <td>3</td>\n",
              "      <td>5.0</td>\n",
              "      <td>15</td>\n",
              "      <td>3</td>\n",
              "      <td>0</td>\n",
              "      <td>0</td>\n",
              "      <td>179.0</td>\n",
              "      <td>18</td>\n",
              "      <td>3</td>\n",
              "      <td>5990</td>\n",
              "      <td>11</td>\n",
              "      <td>720</td>\n",
              "      <td>17</td>\n",
              "      <td>3</td>\n",
              "      <td>1</td>\n",
              "      <td>5.00</td>\n",
              "      <td>1</td>\n",
              "      <td>1</td>\n",
              "      <td>7</td>\n",
              "      <td>4</td>\n",
              "      <td>6</td>\n",
              "      <td>4</td>\n",
              "      <td>1</td>\n",
              "      <td>6</td>\n",
              "      <td>91.0</td>\n",
              "      <td>32.0</td>\n",
              "      <td>6</td>\n",
              "      <td>3</td>\n",
              "      <td>3000</td>\n",
              "      <td>165</td>\n",
              "      <td>0</td>\n",
              "    </tr>\n",
              "  </tbody>\n",
              "</table>\n",
              "</div>"
            ],
            "text/plain": [
              "   sim_type  aperture  gpu_rank  ...  battery_capacity  processor_rank  is_liked\n",
              "0         0        12        55  ...              2000             125         1\n",
              "1         0         1        55  ...              2000             165         1\n",
              "2         0         9        55  ...              2500             164         0\n",
              "3         0         8        55  ...              3000             165         1\n",
              "4         1         1        55  ...              3000             165         0\n",
              "\n",
              "[5 rows x 40 columns]"
            ]
          },
          "metadata": {
            "tags": []
          },
          "execution_count": 146
        }
      ]
    },
    {
      "cell_type": "code",
      "metadata": {
        "id": "IFkzaT8yPSE4",
        "colab": {
          "base_uri": "https://localhost:8080/",
          "height": 226
        },
        "outputId": "e620ddfc-8ca3-4ae0-e5d7-e19323a4e9d6"
      },
      "source": [
        "df.tail()"
      ],
      "execution_count": null,
      "outputs": [
        {
          "output_type": "execute_result",
          "data": {
            "text/html": [
              "<div>\n",
              "<style scoped>\n",
              "    .dataframe tbody tr th:only-of-type {\n",
              "        vertical-align: middle;\n",
              "    }\n",
              "\n",
              "    .dataframe tbody tr th {\n",
              "        vertical-align: top;\n",
              "    }\n",
              "\n",
              "    .dataframe thead th {\n",
              "        text-align: right;\n",
              "    }\n",
              "</style>\n",
              "<table border=\"1\" class=\"dataframe\">\n",
              "  <thead>\n",
              "    <tr style=\"text-align: right;\">\n",
              "      <th></th>\n",
              "      <th>sim_type</th>\n",
              "      <th>aperture</th>\n",
              "      <th>gpu_rank</th>\n",
              "      <th>weight</th>\n",
              "      <th>stand_by_time</th>\n",
              "      <th>processor_frequency</th>\n",
              "      <th>thickness</th>\n",
              "      <th>flash_type</th>\n",
              "      <th>front_camera_resolution</th>\n",
              "      <th>auto_focus</th>\n",
              "      <th>screen_size</th>\n",
              "      <th>frames_per_second</th>\n",
              "      <th>FM</th>\n",
              "      <th>no_of_reviews_in_gsmarena_in_week</th>\n",
              "      <th>os</th>\n",
              "      <th>phone_height</th>\n",
              "      <th>screen_protection</th>\n",
              "      <th>sim_size</th>\n",
              "      <th>price</th>\n",
              "      <th>talk_time</th>\n",
              "      <th>video_resolution</th>\n",
              "      <th>display_resolution</th>\n",
              "      <th>removable_battery</th>\n",
              "      <th>display_type</th>\n",
              "      <th>primary_camera_resolution</th>\n",
              "      <th>battery_type</th>\n",
              "      <th>ram_memory</th>\n",
              "      <th>internal_memory</th>\n",
              "      <th>brand_rank</th>\n",
              "      <th>no_of_cores</th>\n",
              "      <th>micro_sd_slot</th>\n",
              "      <th>screen_pixel_density</th>\n",
              "      <th>water_proof_rate</th>\n",
              "      <th>phone_width</th>\n",
              "      <th>expandable_memory</th>\n",
              "      <th>version</th>\n",
              "      <th>usb_type</th>\n",
              "      <th>battery_capacity</th>\n",
              "      <th>processor_rank</th>\n",
              "      <th>is_liked</th>\n",
              "    </tr>\n",
              "  </thead>\n",
              "  <tbody>\n",
              "    <tr>\n",
              "      <th>104</th>\n",
              "      <td>3</td>\n",
              "      <td>10</td>\n",
              "      <td>14</td>\n",
              "      <td>192.0</td>\n",
              "      <td>540</td>\n",
              "      <td>1.8</td>\n",
              "      <td>9.4</td>\n",
              "      <td>2</td>\n",
              "      <td>2.0</td>\n",
              "      <td>2</td>\n",
              "      <td>5.4</td>\n",
              "      <td>30</td>\n",
              "      <td>1</td>\n",
              "      <td>0</td>\n",
              "      <td>0</td>\n",
              "      <td>147.0</td>\n",
              "      <td>26</td>\n",
              "      <td>7</td>\n",
              "      <td>54900</td>\n",
              "      <td>15</td>\n",
              "      <td>2160</td>\n",
              "      <td>10</td>\n",
              "      <td>4</td>\n",
              "      <td>0</td>\n",
              "      <td>18.0</td>\n",
              "      <td>4</td>\n",
              "      <td>3</td>\n",
              "      <td>4</td>\n",
              "      <td>25</td>\n",
              "      <td>3</td>\n",
              "      <td>4</td>\n",
              "      <td>29</td>\n",
              "      <td>6</td>\n",
              "      <td>77.2</td>\n",
              "      <td>256.0</td>\n",
              "      <td>6</td>\n",
              "      <td>3</td>\n",
              "      <td>3410</td>\n",
              "      <td>8</td>\n",
              "      <td>1</td>\n",
              "    </tr>\n",
              "    <tr>\n",
              "      <th>105</th>\n",
              "      <td>0</td>\n",
              "      <td>5</td>\n",
              "      <td>3</td>\n",
              "      <td>157.0</td>\n",
              "      <td>400</td>\n",
              "      <td>2.3</td>\n",
              "      <td>7.7</td>\n",
              "      <td>5</td>\n",
              "      <td>5.0</td>\n",
              "      <td>3</td>\n",
              "      <td>5.5</td>\n",
              "      <td>30</td>\n",
              "      <td>4</td>\n",
              "      <td>144</td>\n",
              "      <td>0</td>\n",
              "      <td>150.9</td>\n",
              "      <td>7</td>\n",
              "      <td>9</td>\n",
              "      <td>56900</td>\n",
              "      <td>27</td>\n",
              "      <td>2160</td>\n",
              "      <td>10</td>\n",
              "      <td>1</td>\n",
              "      <td>8</td>\n",
              "      <td>12.0</td>\n",
              "      <td>1</td>\n",
              "      <td>4</td>\n",
              "      <td>4</td>\n",
              "      <td>2</td>\n",
              "      <td>6</td>\n",
              "      <td>6</td>\n",
              "      <td>27</td>\n",
              "      <td>1</td>\n",
              "      <td>72.6</td>\n",
              "      <td>200.0</td>\n",
              "      <td>9</td>\n",
              "      <td>3</td>\n",
              "      <td>3600</td>\n",
              "      <td>101</td>\n",
              "      <td>1</td>\n",
              "    </tr>\n",
              "    <tr>\n",
              "      <th>106</th>\n",
              "      <td>3</td>\n",
              "      <td>10</td>\n",
              "      <td>6</td>\n",
              "      <td>192.0</td>\n",
              "      <td>384</td>\n",
              "      <td>1.8</td>\n",
              "      <td>7.3</td>\n",
              "      <td>2</td>\n",
              "      <td>5.0</td>\n",
              "      <td>3</td>\n",
              "      <td>5.5</td>\n",
              "      <td>30</td>\n",
              "      <td>4</td>\n",
              "      <td>81</td>\n",
              "      <td>2</td>\n",
              "      <td>158.2</td>\n",
              "      <td>16</td>\n",
              "      <td>11</td>\n",
              "      <td>59000</td>\n",
              "      <td>24</td>\n",
              "      <td>2160</td>\n",
              "      <td>7</td>\n",
              "      <td>1</td>\n",
              "      <td>2</td>\n",
              "      <td>12.0</td>\n",
              "      <td>2</td>\n",
              "      <td>2</td>\n",
              "      <td>2</td>\n",
              "      <td>1</td>\n",
              "      <td>0</td>\n",
              "      <td>1</td>\n",
              "      <td>16</td>\n",
              "      <td>6</td>\n",
              "      <td>77.9</td>\n",
              "      <td>0.0</td>\n",
              "      <td>14</td>\n",
              "      <td>13</td>\n",
              "      <td>2750</td>\n",
              "      <td>1</td>\n",
              "      <td>1</td>\n",
              "    </tr>\n",
              "    <tr>\n",
              "      <th>107</th>\n",
              "      <td>3</td>\n",
              "      <td>10</td>\n",
              "      <td>12</td>\n",
              "      <td>129.0</td>\n",
              "      <td>250</td>\n",
              "      <td>1.4</td>\n",
              "      <td>6.9</td>\n",
              "      <td>2</td>\n",
              "      <td>1.2</td>\n",
              "      <td>3</td>\n",
              "      <td>4.7</td>\n",
              "      <td>60</td>\n",
              "      <td>4</td>\n",
              "      <td>39</td>\n",
              "      <td>2</td>\n",
              "      <td>138.1</td>\n",
              "      <td>16</td>\n",
              "      <td>11</td>\n",
              "      <td>64500</td>\n",
              "      <td>14</td>\n",
              "      <td>1080</td>\n",
              "      <td>7</td>\n",
              "      <td>1</td>\n",
              "      <td>2</td>\n",
              "      <td>8.0</td>\n",
              "      <td>2</td>\n",
              "      <td>1</td>\n",
              "      <td>1</td>\n",
              "      <td>1</td>\n",
              "      <td>0</td>\n",
              "      <td>1</td>\n",
              "      <td>13</td>\n",
              "      <td>6</td>\n",
              "      <td>67.0</td>\n",
              "      <td>0.0</td>\n",
              "      <td>12</td>\n",
              "      <td>13</td>\n",
              "      <td>1810</td>\n",
              "      <td>7</td>\n",
              "      <td>1</td>\n",
              "    </tr>\n",
              "    <tr>\n",
              "      <th>108</th>\n",
              "      <td>2</td>\n",
              "      <td>8</td>\n",
              "      <td>3</td>\n",
              "      <td>158.0</td>\n",
              "      <td>400</td>\n",
              "      <td>2.2</td>\n",
              "      <td>7.4</td>\n",
              "      <td>6</td>\n",
              "      <td>8.0</td>\n",
              "      <td>3</td>\n",
              "      <td>5.5</td>\n",
              "      <td>30</td>\n",
              "      <td>1</td>\n",
              "      <td>0</td>\n",
              "      <td>0</td>\n",
              "      <td>152.7</td>\n",
              "      <td>7</td>\n",
              "      <td>8</td>\n",
              "      <td>27999</td>\n",
              "      <td>40</td>\n",
              "      <td>2160</td>\n",
              "      <td>9</td>\n",
              "      <td>1</td>\n",
              "      <td>6</td>\n",
              "      <td>16.0</td>\n",
              "      <td>4</td>\n",
              "      <td>6</td>\n",
              "      <td>6</td>\n",
              "      <td>12</td>\n",
              "      <td>6</td>\n",
              "      <td>5</td>\n",
              "      <td>16</td>\n",
              "      <td>6</td>\n",
              "      <td>74.7</td>\n",
              "      <td>0.0</td>\n",
              "      <td>10</td>\n",
              "      <td>12</td>\n",
              "      <td>3000</td>\n",
              "      <td>2</td>\n",
              "      <td>0</td>\n",
              "    </tr>\n",
              "  </tbody>\n",
              "</table>\n",
              "</div>"
            ],
            "text/plain": [
              "     sim_type  aperture  gpu_rank  ...  battery_capacity  processor_rank  is_liked\n",
              "104         3        10        14  ...              3410               8         1\n",
              "105         0         5         3  ...              3600             101         1\n",
              "106         3        10         6  ...              2750               1         1\n",
              "107         3        10        12  ...              1810               7         1\n",
              "108         2         8         3  ...              3000               2         0\n",
              "\n",
              "[5 rows x 40 columns]"
            ]
          },
          "metadata": {
            "tags": []
          },
          "execution_count": 147
        }
      ]
    },
    {
      "cell_type": "code",
      "metadata": {
        "id": "GcZ8F6pjPddq",
        "colab": {
          "base_uri": "https://localhost:8080/",
          "height": 34
        },
        "outputId": "310ae540-a924-4720-8312-ae55c20a079f"
      },
      "source": [
        "type(df)"
      ],
      "execution_count": null,
      "outputs": [
        {
          "output_type": "execute_result",
          "data": {
            "text/plain": [
              "pandas.core.frame.DataFrame"
            ]
          },
          "metadata": {
            "tags": []
          },
          "execution_count": 148
        }
      ]
    },
    {
      "cell_type": "code",
      "metadata": {
        "id": "27mpV9G8PgN2",
        "colab": {
          "base_uri": "https://localhost:8080/",
          "height": 34
        },
        "outputId": "ecf33e1f-b895-47ff-ac84-679a649a36d5"
      },
      "source": [
        "len(df)"
      ],
      "execution_count": null,
      "outputs": [
        {
          "output_type": "execute_result",
          "data": {
            "text/plain": [
              "109"
            ]
          },
          "metadata": {
            "tags": []
          },
          "execution_count": 150
        }
      ]
    },
    {
      "cell_type": "code",
      "metadata": {
        "id": "weepr7pnPpxr",
        "colab": {
          "base_uri": "https://localhost:8080/",
          "height": 34
        },
        "outputId": "96d476ea-02a0-4de9-8d34-b7ecaa4704f9"
      },
      "source": [
        "df.shape"
      ],
      "execution_count": null,
      "outputs": [
        {
          "output_type": "execute_result",
          "data": {
            "text/plain": [
              "(109, 40)"
            ]
          },
          "metadata": {
            "tags": []
          },
          "execution_count": 151
        }
      ]
    },
    {
      "cell_type": "code",
      "metadata": {
        "id": "tBdvw-XlPwRU",
        "colab": {
          "base_uri": "https://localhost:8080/",
          "height": 729
        },
        "outputId": "6852205f-e922-44c7-8069-c4378f646ffc"
      },
      "source": [
        "df.loc[5]   # access a tuple"
      ],
      "execution_count": null,
      "outputs": [
        {
          "output_type": "execute_result",
          "data": {
            "text/plain": [
              "sim_type                                0.0\n",
              "aperture                               14.0\n",
              "gpu_rank                               55.0\n",
              "weight                                179.0\n",
              "stand_by_time                         280.0\n",
              "processor_frequency                     1.3\n",
              "thickness                               7.9\n",
              "flash_type                              5.0\n",
              "front_camera_resolution                 5.0\n",
              "auto_focus                              3.0\n",
              "screen_size                             5.5\n",
              "frames_per_second                      30.0\n",
              "FM                                      3.0\n",
              "no_of_reviews_in_gsmarena_in_week       6.0\n",
              "os                                      0.0\n",
              "phone_height                          150.0\n",
              "screen_protection                       5.0\n",
              "sim_size                                3.0\n",
              "price                                5999.0\n",
              "talk_time                              22.0\n",
              "video_resolution                      720.0\n",
              "display_resolution                      0.0\n",
              "removable_battery                       0.0\n",
              "display_type                            2.0\n",
              "primary_camera_resolution               8.0\n",
              "battery_type                            1.0\n",
              "ram_memory                              1.0\n",
              "internal_memory                         7.0\n",
              "brand_rank                              4.0\n",
              "no_of_cores                             6.0\n",
              "micro_sd_slot                           4.0\n",
              "screen_pixel_density                    7.0\n",
              "water_proof_rate                        3.0\n",
              "phone_width                            71.0\n",
              "expandable_memory                      32.0\n",
              "version                                 6.0\n",
              "usb_type                                3.0\n",
              "battery_capacity                     2900.0\n",
              "processor_rank                        165.0\n",
              "is_liked                                0.0\n",
              "Name: 5, dtype: float64"
            ]
          },
          "metadata": {
            "tags": []
          },
          "execution_count": 152
        }
      ]
    },
    {
      "cell_type": "code",
      "metadata": {
        "id": "wfKrhgfkP0Gz"
      },
      "source": [
        "df_short = df[6:10]"
      ],
      "execution_count": null,
      "outputs": []
    },
    {
      "cell_type": "code",
      "metadata": {
        "id": "GV7Vu105QXAX",
        "colab": {
          "base_uri": "https://localhost:8080/",
          "height": 195
        },
        "outputId": "dde8fd5d-76dc-4c94-88f8-800ddf2f6b6a"
      },
      "source": [
        "df_short.head()"
      ],
      "execution_count": null,
      "outputs": [
        {
          "output_type": "execute_result",
          "data": {
            "text/html": [
              "<div>\n",
              "<style scoped>\n",
              "    .dataframe tbody tr th:only-of-type {\n",
              "        vertical-align: middle;\n",
              "    }\n",
              "\n",
              "    .dataframe tbody tr th {\n",
              "        vertical-align: top;\n",
              "    }\n",
              "\n",
              "    .dataframe thead th {\n",
              "        text-align: right;\n",
              "    }\n",
              "</style>\n",
              "<table border=\"1\" class=\"dataframe\">\n",
              "  <thead>\n",
              "    <tr style=\"text-align: right;\">\n",
              "      <th></th>\n",
              "      <th>sim_type</th>\n",
              "      <th>aperture</th>\n",
              "      <th>gpu_rank</th>\n",
              "      <th>weight</th>\n",
              "      <th>stand_by_time</th>\n",
              "      <th>processor_frequency</th>\n",
              "      <th>thickness</th>\n",
              "      <th>flash_type</th>\n",
              "      <th>front_camera_resolution</th>\n",
              "      <th>auto_focus</th>\n",
              "      <th>screen_size</th>\n",
              "      <th>frames_per_second</th>\n",
              "      <th>FM</th>\n",
              "      <th>no_of_reviews_in_gsmarena_in_week</th>\n",
              "      <th>os</th>\n",
              "      <th>phone_height</th>\n",
              "      <th>screen_protection</th>\n",
              "      <th>sim_size</th>\n",
              "      <th>price</th>\n",
              "      <th>talk_time</th>\n",
              "      <th>video_resolution</th>\n",
              "      <th>display_resolution</th>\n",
              "      <th>removable_battery</th>\n",
              "      <th>display_type</th>\n",
              "      <th>primary_camera_resolution</th>\n",
              "      <th>battery_type</th>\n",
              "      <th>ram_memory</th>\n",
              "      <th>internal_memory</th>\n",
              "      <th>brand_rank</th>\n",
              "      <th>no_of_cores</th>\n",
              "      <th>micro_sd_slot</th>\n",
              "      <th>screen_pixel_density</th>\n",
              "      <th>water_proof_rate</th>\n",
              "      <th>phone_width</th>\n",
              "      <th>expandable_memory</th>\n",
              "      <th>version</th>\n",
              "      <th>usb_type</th>\n",
              "      <th>battery_capacity</th>\n",
              "      <th>processor_rank</th>\n",
              "      <th>is_liked</th>\n",
              "    </tr>\n",
              "  </thead>\n",
              "  <tbody>\n",
              "    <tr>\n",
              "      <th>6</th>\n",
              "      <td>1</td>\n",
              "      <td>1</td>\n",
              "      <td>56</td>\n",
              "      <td>124.0</td>\n",
              "      <td>230</td>\n",
              "      <td>1.3</td>\n",
              "      <td>8.8</td>\n",
              "      <td>5</td>\n",
              "      <td>2.0</td>\n",
              "      <td>3</td>\n",
              "      <td>4.0</td>\n",
              "      <td>30</td>\n",
              "      <td>3</td>\n",
              "      <td>0</td>\n",
              "      <td>0</td>\n",
              "      <td>123.0</td>\n",
              "      <td>26</td>\n",
              "      <td>3</td>\n",
              "      <td>5999</td>\n",
              "      <td>11</td>\n",
              "      <td>1080</td>\n",
              "      <td>16</td>\n",
              "      <td>3</td>\n",
              "      <td>2</td>\n",
              "      <td>5.0</td>\n",
              "      <td>1</td>\n",
              "      <td>512</td>\n",
              "      <td>5</td>\n",
              "      <td>30</td>\n",
              "      <td>0</td>\n",
              "      <td>4</td>\n",
              "      <td>4</td>\n",
              "      <td>3</td>\n",
              "      <td>62.5</td>\n",
              "      <td>128.0</td>\n",
              "      <td>2</td>\n",
              "      <td>3</td>\n",
              "      <td>1700</td>\n",
              "      <td>163</td>\n",
              "      <td>1</td>\n",
              "    </tr>\n",
              "    <tr>\n",
              "      <th>7</th>\n",
              "      <td>0</td>\n",
              "      <td>8</td>\n",
              "      <td>41</td>\n",
              "      <td>154.0</td>\n",
              "      <td>182</td>\n",
              "      <td>1.0</td>\n",
              "      <td>8.1</td>\n",
              "      <td>5</td>\n",
              "      <td>2.0</td>\n",
              "      <td>3</td>\n",
              "      <td>5.0</td>\n",
              "      <td>30</td>\n",
              "      <td>5</td>\n",
              "      <td>0</td>\n",
              "      <td>0</td>\n",
              "      <td>132.0</td>\n",
              "      <td>26</td>\n",
              "      <td>3</td>\n",
              "      <td>6599</td>\n",
              "      <td>7</td>\n",
              "      <td>720</td>\n",
              "      <td>4</td>\n",
              "      <td>3</td>\n",
              "      <td>2</td>\n",
              "      <td>8.0</td>\n",
              "      <td>0</td>\n",
              "      <td>2</td>\n",
              "      <td>2</td>\n",
              "      <td>4</td>\n",
              "      <td>6</td>\n",
              "      <td>4</td>\n",
              "      <td>9</td>\n",
              "      <td>3</td>\n",
              "      <td>78.0</td>\n",
              "      <td>32.0</td>\n",
              "      <td>6</td>\n",
              "      <td>3</td>\n",
              "      <td>2000</td>\n",
              "      <td>92</td>\n",
              "      <td>1</td>\n",
              "    </tr>\n",
              "    <tr>\n",
              "      <th>8</th>\n",
              "      <td>1</td>\n",
              "      <td>8</td>\n",
              "      <td>41</td>\n",
              "      <td>214.0</td>\n",
              "      <td>182</td>\n",
              "      <td>1.0</td>\n",
              "      <td>8.2</td>\n",
              "      <td>5</td>\n",
              "      <td>2.0</td>\n",
              "      <td>3</td>\n",
              "      <td>5.0</td>\n",
              "      <td>30</td>\n",
              "      <td>3</td>\n",
              "      <td>39</td>\n",
              "      <td>0</td>\n",
              "      <td>172.0</td>\n",
              "      <td>18</td>\n",
              "      <td>3</td>\n",
              "      <td>6599</td>\n",
              "      <td>6</td>\n",
              "      <td>720</td>\n",
              "      <td>14</td>\n",
              "      <td>3</td>\n",
              "      <td>2</td>\n",
              "      <td>8.0</td>\n",
              "      <td>1</td>\n",
              "      <td>2</td>\n",
              "      <td>2</td>\n",
              "      <td>4</td>\n",
              "      <td>6</td>\n",
              "      <td>4</td>\n",
              "      <td>9</td>\n",
              "      <td>6</td>\n",
              "      <td>80.0</td>\n",
              "      <td>32.0</td>\n",
              "      <td>6</td>\n",
              "      <td>7</td>\n",
              "      <td>2000</td>\n",
              "      <td>92</td>\n",
              "      <td>1</td>\n",
              "    </tr>\n",
              "    <tr>\n",
              "      <th>9</th>\n",
              "      <td>0</td>\n",
              "      <td>1</td>\n",
              "      <td>55</td>\n",
              "      <td>155.0</td>\n",
              "      <td>435</td>\n",
              "      <td>1.3</td>\n",
              "      <td>11.6</td>\n",
              "      <td>5</td>\n",
              "      <td>2.0</td>\n",
              "      <td>3</td>\n",
              "      <td>5.0</td>\n",
              "      <td>15</td>\n",
              "      <td>2</td>\n",
              "      <td>5</td>\n",
              "      <td>0</td>\n",
              "      <td>142.1</td>\n",
              "      <td>5</td>\n",
              "      <td>3</td>\n",
              "      <td>6649</td>\n",
              "      <td>9</td>\n",
              "      <td>720</td>\n",
              "      <td>4</td>\n",
              "      <td>1</td>\n",
              "      <td>2</td>\n",
              "      <td>8.0</td>\n",
              "      <td>1</td>\n",
              "      <td>2</td>\n",
              "      <td>7</td>\n",
              "      <td>4</td>\n",
              "      <td>6</td>\n",
              "      <td>4</td>\n",
              "      <td>9</td>\n",
              "      <td>6</td>\n",
              "      <td>72.4</td>\n",
              "      <td>32.0</td>\n",
              "      <td>5</td>\n",
              "      <td>3</td>\n",
              "      <td>3000</td>\n",
              "      <td>125</td>\n",
              "      <td>1</td>\n",
              "    </tr>\n",
              "  </tbody>\n",
              "</table>\n",
              "</div>"
            ],
            "text/plain": [
              "   sim_type  aperture  gpu_rank  ...  battery_capacity  processor_rank  is_liked\n",
              "6         1         1        56  ...              1700             163         1\n",
              "7         0         8        41  ...              2000              92         1\n",
              "8         1         8        41  ...              2000              92         1\n",
              "9         0         1        55  ...              3000             125         1\n",
              "\n",
              "[4 rows x 40 columns]"
            ]
          },
          "metadata": {
            "tags": []
          },
          "execution_count": 158
        }
      ]
    },
    {
      "cell_type": "code",
      "metadata": {
        "id": "Eo0kVgNpQYb0"
      },
      "source": [
        "df_thin = df[['stand_by_time','battery_capacity','thickness','is_liked']]"
      ],
      "execution_count": null,
      "outputs": []
    },
    {
      "cell_type": "code",
      "metadata": {
        "id": "4lpGXolUQmnj",
        "colab": {
          "base_uri": "https://localhost:8080/",
          "height": 206
        },
        "outputId": "97e8aec8-0e08-4271-a4dc-d6f4b25f1a0b"
      },
      "source": [
        "df_thin.head()"
      ],
      "execution_count": null,
      "outputs": [
        {
          "output_type": "execute_result",
          "data": {
            "text/html": [
              "<div>\n",
              "<style scoped>\n",
              "    .dataframe tbody tr th:only-of-type {\n",
              "        vertical-align: middle;\n",
              "    }\n",
              "\n",
              "    .dataframe tbody tr th {\n",
              "        vertical-align: top;\n",
              "    }\n",
              "\n",
              "    .dataframe thead th {\n",
              "        text-align: right;\n",
              "    }\n",
              "</style>\n",
              "<table border=\"1\" class=\"dataframe\">\n",
              "  <thead>\n",
              "    <tr style=\"text-align: right;\">\n",
              "      <th></th>\n",
              "      <th>stand_by_time</th>\n",
              "      <th>battery_capacity</th>\n",
              "      <th>thickness</th>\n",
              "      <th>is_liked</th>\n",
              "    </tr>\n",
              "  </thead>\n",
              "  <tbody>\n",
              "    <tr>\n",
              "      <th>0</th>\n",
              "      <td>250</td>\n",
              "      <td>2000</td>\n",
              "      <td>10.5</td>\n",
              "      <td>1</td>\n",
              "    </tr>\n",
              "    <tr>\n",
              "      <th>1</th>\n",
              "      <td>300</td>\n",
              "      <td>2000</td>\n",
              "      <td>10.6</td>\n",
              "      <td>1</td>\n",
              "    </tr>\n",
              "    <tr>\n",
              "      <th>2</th>\n",
              "      <td>329</td>\n",
              "      <td>2500</td>\n",
              "      <td>8.5</td>\n",
              "      <td>0</td>\n",
              "    </tr>\n",
              "    <tr>\n",
              "      <th>3</th>\n",
              "      <td>385</td>\n",
              "      <td>3000</td>\n",
              "      <td>8.0</td>\n",
              "      <td>1</td>\n",
              "    </tr>\n",
              "    <tr>\n",
              "      <th>4</th>\n",
              "      <td>385</td>\n",
              "      <td>3000</td>\n",
              "      <td>7.9</td>\n",
              "      <td>0</td>\n",
              "    </tr>\n",
              "  </tbody>\n",
              "</table>\n",
              "</div>"
            ],
            "text/plain": [
              "   stand_by_time  battery_capacity  thickness  is_liked\n",
              "0            250              2000       10.5         1\n",
              "1            300              2000       10.6         1\n",
              "2            329              2500        8.5         0\n",
              "3            385              3000        8.0         1\n",
              "4            385              3000        7.9         0"
            ]
          },
          "metadata": {
            "tags": []
          },
          "execution_count": 164
        }
      ]
    },
    {
      "cell_type": "code",
      "metadata": {
        "id": "1qPLXVJxQqwu",
        "colab": {
          "base_uri": "https://localhost:8080/",
          "height": 34
        },
        "outputId": "1e002d54-5ea7-490f-839d-693a50660289"
      },
      "source": [
        "df_thin.shape"
      ],
      "execution_count": null,
      "outputs": [
        {
          "output_type": "execute_result",
          "data": {
            "text/plain": [
              "(109, 4)"
            ]
          },
          "metadata": {
            "tags": []
          },
          "execution_count": 165
        }
      ]
    },
    {
      "cell_type": "code",
      "metadata": {
        "id": "ImGObFAWQ52Y"
      },
      "source": [
        "df_liked = df_thin[df_thin['is_liked'] == 1]"
      ],
      "execution_count": null,
      "outputs": []
    },
    {
      "cell_type": "code",
      "metadata": {
        "id": "fDuA_d1dRLVF",
        "colab": {
          "base_uri": "https://localhost:8080/",
          "height": 206
        },
        "outputId": "75cb7442-b83a-4582-e92a-874f4d0db5c2"
      },
      "source": [
        "df_liked.head()"
      ],
      "execution_count": null,
      "outputs": [
        {
          "output_type": "execute_result",
          "data": {
            "text/html": [
              "<div>\n",
              "<style scoped>\n",
              "    .dataframe tbody tr th:only-of-type {\n",
              "        vertical-align: middle;\n",
              "    }\n",
              "\n",
              "    .dataframe tbody tr th {\n",
              "        vertical-align: top;\n",
              "    }\n",
              "\n",
              "    .dataframe thead th {\n",
              "        text-align: right;\n",
              "    }\n",
              "</style>\n",
              "<table border=\"1\" class=\"dataframe\">\n",
              "  <thead>\n",
              "    <tr style=\"text-align: right;\">\n",
              "      <th></th>\n",
              "      <th>stand_by_time</th>\n",
              "      <th>battery_capacity</th>\n",
              "      <th>thickness</th>\n",
              "      <th>is_liked</th>\n",
              "    </tr>\n",
              "  </thead>\n",
              "  <tbody>\n",
              "    <tr>\n",
              "      <th>0</th>\n",
              "      <td>250</td>\n",
              "      <td>2000</td>\n",
              "      <td>10.5</td>\n",
              "      <td>1</td>\n",
              "    </tr>\n",
              "    <tr>\n",
              "      <th>1</th>\n",
              "      <td>300</td>\n",
              "      <td>2000</td>\n",
              "      <td>10.6</td>\n",
              "      <td>1</td>\n",
              "    </tr>\n",
              "    <tr>\n",
              "      <th>3</th>\n",
              "      <td>385</td>\n",
              "      <td>3000</td>\n",
              "      <td>8.0</td>\n",
              "      <td>1</td>\n",
              "    </tr>\n",
              "    <tr>\n",
              "      <th>6</th>\n",
              "      <td>230</td>\n",
              "      <td>1700</td>\n",
              "      <td>8.8</td>\n",
              "      <td>1</td>\n",
              "    </tr>\n",
              "    <tr>\n",
              "      <th>7</th>\n",
              "      <td>182</td>\n",
              "      <td>2000</td>\n",
              "      <td>8.1</td>\n",
              "      <td>1</td>\n",
              "    </tr>\n",
              "  </tbody>\n",
              "</table>\n",
              "</div>"
            ],
            "text/plain": [
              "   stand_by_time  battery_capacity  thickness  is_liked\n",
              "0            250              2000       10.5         1\n",
              "1            300              2000       10.6         1\n",
              "3            385              3000        8.0         1\n",
              "6            230              1700        8.8         1\n",
              "7            182              2000        8.1         1"
            ]
          },
          "metadata": {
            "tags": []
          },
          "execution_count": 167
        }
      ]
    },
    {
      "cell_type": "code",
      "metadata": {
        "id": "_q_Byww3Raey",
        "colab": {
          "base_uri": "https://localhost:8080/",
          "height": 34
        },
        "outputId": "00e2add1-e251-46ad-9948-371421db6d45"
      },
      "source": [
        "df_liked.shape"
      ],
      "execution_count": null,
      "outputs": [
        {
          "output_type": "execute_result",
          "data": {
            "text/plain": [
              "(92, 4)"
            ]
          },
          "metadata": {
            "tags": []
          },
          "execution_count": 168
        }
      ]
    },
    {
      "cell_type": "code",
      "metadata": {
        "id": "njscktcZRed2",
        "colab": {
          "base_uri": "https://localhost:8080/",
          "height": 34
        },
        "outputId": "7c72cfee-bcdb-4c0c-b0d2-c6efc01e8da4"
      },
      "source": [
        "df_thin['battery_capacity'].mean()"
      ],
      "execution_count": null,
      "outputs": [
        {
          "output_type": "execute_result",
          "data": {
            "text/plain": [
              "2841.7798165137615"
            ]
          },
          "metadata": {
            "tags": []
          },
          "execution_count": 169
        }
      ]
    },
    {
      "cell_type": "code",
      "metadata": {
        "id": "7gOEXP1VRrse",
        "colab": {
          "base_uri": "https://localhost:8080/",
          "height": 34
        },
        "outputId": "cabc4cea-c7ea-466b-a58e-1b6d7bdef273"
      },
      "source": [
        "df_thin['battery_capacity'].min()"
      ],
      "execution_count": null,
      "outputs": [
        {
          "output_type": "execute_result",
          "data": {
            "text/plain": [
              "1560"
            ]
          },
          "metadata": {
            "tags": []
          },
          "execution_count": 170
        }
      ]
    },
    {
      "cell_type": "code",
      "metadata": {
        "id": "4rG7LMXmRvvH",
        "colab": {
          "base_uri": "https://localhost:8080/",
          "height": 34
        },
        "outputId": "93d88d5a-fa1b-4303-d54d-a36bc6aa0a62"
      },
      "source": [
        "df_thin['battery_capacity'].count()"
      ],
      "execution_count": null,
      "outputs": [
        {
          "output_type": "execute_result",
          "data": {
            "text/plain": [
              "109"
            ]
          },
          "metadata": {
            "tags": []
          },
          "execution_count": 171
        }
      ]
    },
    {
      "cell_type": "code",
      "metadata": {
        "id": "4KtulkVyRyZK",
        "colab": {
          "base_uri": "https://localhost:8080/",
          "height": 173
        },
        "outputId": "3ffa5f95-3800-44ed-8633-e3105ba56e53"
      },
      "source": [
        "df_thin['battery_capacity'].describe()"
      ],
      "execution_count": null,
      "outputs": [
        {
          "output_type": "execute_result",
          "data": {
            "text/plain": [
              "count     109.000000\n",
              "mean     2841.779817\n",
              "std       655.003963\n",
              "min      1560.000000\n",
              "25%      2470.000000\n",
              "50%      2900.000000\n",
              "75%      3100.000000\n",
              "max      5000.000000\n",
              "Name: battery_capacity, dtype: float64"
            ]
          },
          "metadata": {
            "tags": []
          },
          "execution_count": 172
        }
      ]
    },
    {
      "cell_type": "code",
      "metadata": {
        "id": "jSgQzRxRS-4W",
        "colab": {
          "base_uri": "https://localhost:8080/",
          "height": 747
        },
        "outputId": "b77348ea-efa1-492c-f1cf-999a55285ea4"
      },
      "source": [
        "ax = sns.pairplot(df_thin, diag_kind = 'hist')"
      ],
      "execution_count": null,
      "outputs": [
        {
          "output_type": "display_data",
          "data": {
            "image/png": "[encoded data removed]",
            "text/plain": [
              "<Figure size 720x720 with 20 Axes>"
            ]
          },
          "metadata": {
            "tags": []
          }
        }
      ]
    },
    {
      "cell_type": "code",
      "metadata": {
        "id": "ZJh3Fs4QTLG3",
        "colab": {
          "base_uri": "https://localhost:8080/",
          "height": 567
        },
        "outputId": "1ab815a6-2044-4a61-a6b8-d612e0db348c"
      },
      "source": [
        "ax = sns.pairplot(df_thin, diag_kind = 'hist',hue = 'is_liked',palette = 'RdBu')"
      ],
      "execution_count": null,
      "outputs": [
        {
          "output_type": "display_data",
          "data": {
            "image/png": "[encoded data removed]",
            "text/plain": [
              "<Figure size 592.925x540 with 12 Axes>"
            ]
          },
          "metadata": {
            "tags": []
          }
        }
      ]
    }
  ]
}